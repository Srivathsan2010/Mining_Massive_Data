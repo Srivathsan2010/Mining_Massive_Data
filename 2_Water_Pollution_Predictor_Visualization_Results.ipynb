{
 "cells": [
  {
   "cell_type": "code",
   "execution_count": 92,
   "metadata": {},
   "outputs": [],
   "source": [
    "import matplotlib.pyplot as plt\n",
    "import pandas as pd\n",
    "import seaborn as sns\n",
    "import pandas as pd\n",
    "import numpy as np\n",
    "import dask.dataframe as dd\n",
    "import seaborn as sns\n",
    "import matplotlib.pyplot as plt\n",
    "from collections import Counter"
   ]
  },
  {
   "cell_type": "markdown",
   "metadata": {},
   "source": [
    "Here, we load the previous dataset."
   ]
  },
  {
   "cell_type": "code",
   "execution_count": 1,
   "metadata": {},
   "outputs": [
    {
     "data": {
      "application/javascript": [
       "\n",
       "        if (window._pyforest_update_imports_cell) { window._pyforest_update_imports_cell('import pandas as pd'); }\n",
       "    "
      ],
      "text/plain": [
       "<IPython.core.display.Javascript object>"
      ]
     },
     "metadata": {},
     "output_type": "display_data"
    }
   ],
   "source": [
    "df = pd.read_csv('502.txt',delimiter=\"\\t\",error_bad_lines=False,low_memory=False)"
   ]
  },
  {
   "cell_type": "code",
   "execution_count": 93,
   "metadata": {},
   "outputs": [
    {
     "data": {
      "text/html": [
       "<div>\n",
       "<style scoped>\n",
       "    .dataframe tbody tr th:only-of-type {\n",
       "        vertical-align: middle;\n",
       "    }\n",
       "\n",
       "    .dataframe tbody tr th {\n",
       "        vertical-align: top;\n",
       "    }\n",
       "\n",
       "    .dataframe thead th {\n",
       "        text-align: right;\n",
       "    }\n",
       "</style>\n",
       "<table border=\"1\" class=\"dataframe\">\n",
       "  <thead>\n",
       "    <tr style=\"text-align: right;\">\n",
       "      <th></th>\n",
       "      <th>agency_cd</th>\n",
       "      <th>site_no</th>\n",
       "      <th>datetime</th>\n",
       "      <th>tz_cd</th>\n",
       "      <th>176923_00065</th>\n",
       "      <th>176923_00065_cd</th>\n",
       "      <th>176924_00060</th>\n",
       "      <th>176924_00060_cd</th>\n",
       "    </tr>\n",
       "  </thead>\n",
       "  <tbody>\n",
       "    <tr>\n",
       "      <th>0</th>\n",
       "      <td>5s</td>\n",
       "      <td>15s</td>\n",
       "      <td>20d</td>\n",
       "      <td>6s</td>\n",
       "      <td>14n</td>\n",
       "      <td>10s</td>\n",
       "      <td>14n</td>\n",
       "      <td>10s</td>\n",
       "    </tr>\n",
       "    <tr>\n",
       "      <th>1</th>\n",
       "      <td>USGS</td>\n",
       "      <td>02146800</td>\n",
       "      <td>2007-10-01 01:00</td>\n",
       "      <td>EDT</td>\n",
       "      <td>4.68</td>\n",
       "      <td>A</td>\n",
       "      <td>97.8</td>\n",
       "      <td>A</td>\n",
       "    </tr>\n",
       "    <tr>\n",
       "      <th>2</th>\n",
       "      <td>USGS</td>\n",
       "      <td>02146800</td>\n",
       "      <td>2007-10-01 01:15</td>\n",
       "      <td>EDT</td>\n",
       "      <td>4.69</td>\n",
       "      <td>A</td>\n",
       "      <td>98.6</td>\n",
       "      <td>A</td>\n",
       "    </tr>\n",
       "    <tr>\n",
       "      <th>3</th>\n",
       "      <td>USGS</td>\n",
       "      <td>02146800</td>\n",
       "      <td>2007-10-01 01:30</td>\n",
       "      <td>EDT</td>\n",
       "      <td>4.69</td>\n",
       "      <td>A</td>\n",
       "      <td>98.6</td>\n",
       "      <td>A</td>\n",
       "    </tr>\n",
       "    <tr>\n",
       "      <th>4</th>\n",
       "      <td>USGS</td>\n",
       "      <td>02146800</td>\n",
       "      <td>2007-10-01 01:45</td>\n",
       "      <td>EDT</td>\n",
       "      <td>4.69</td>\n",
       "      <td>A</td>\n",
       "      <td>98.6</td>\n",
       "      <td>A</td>\n",
       "    </tr>\n",
       "  </tbody>\n",
       "</table>\n",
       "</div>"
      ],
      "text/plain": [
       "  agency_cd   site_no          datetime tz_cd 176923_00065 176923_00065_cd  \\\n",
       "0        5s       15s               20d    6s          14n             10s   \n",
       "1      USGS  02146800  2007-10-01 01:00   EDT         4.68               A   \n",
       "2      USGS  02146800  2007-10-01 01:15   EDT         4.69               A   \n",
       "3      USGS  02146800  2007-10-01 01:30   EDT         4.69               A   \n",
       "4      USGS  02146800  2007-10-01 01:45   EDT         4.69               A   \n",
       "\n",
       "  176924_00060 176924_00060_cd  \n",
       "0          14n             10s  \n",
       "1         97.8               A  \n",
       "2         98.6               A  \n",
       "3         98.6               A  \n",
       "4         98.6               A  "
      ]
     },
     "execution_count": 93,
     "metadata": {},
     "output_type": "execute_result"
    }
   ],
   "source": [
    "df.head()"
   ]
  },
  {
   "cell_type": "markdown",
   "metadata": {},
   "source": [
    "Now, we load the new dataset which we use to map with the previous one to get meaningful insights about the most prominent region of facilities that releases hightest amount of chemical. Here, the region is mapped and verified from the previous dataset."
   ]
  },
  {
   "cell_type": "code",
   "execution_count": 4,
   "metadata": {},
   "outputs": [
    {
     "data": {
      "application/javascript": [
       "\n",
       "        if (window._pyforest_update_imports_cell) { window._pyforest_update_imports_cell('import pandas as pd'); }\n",
       "    "
      ],
      "text/plain": [
       "<IPython.core.display.Javascript object>"
      ]
     },
     "metadata": {},
     "output_type": "display_data"
    }
   ],
   "source": [
    "df1 = pd.read_excel(\"year_wise_industry_water_release.xlsx\")"
   ]
  },
  {
   "cell_type": "code",
   "execution_count": 5,
   "metadata": {},
   "outputs": [
    {
     "data": {
      "text/html": [
       "<div>\n",
       "<style scoped>\n",
       "    .dataframe tbody tr th:only-of-type {\n",
       "        vertical-align: middle;\n",
       "    }\n",
       "\n",
       "    .dataframe tbody tr th {\n",
       "        vertical-align: top;\n",
       "    }\n",
       "\n",
       "    .dataframe thead th {\n",
       "        text-align: right;\n",
       "    }\n",
       "</style>\n",
       "<table border=\"1\" class=\"dataframe\">\n",
       "  <thead>\n",
       "    <tr style=\"text-align: right;\">\n",
       "      <th></th>\n",
       "      <th>Facility</th>\n",
       "      <th>Year</th>\n",
       "      <th>Media Type</th>\n",
       "      <th>Chemical</th>\n",
       "      <th>Releases (lbs)</th>\n",
       "    </tr>\n",
       "  </thead>\n",
       "  <tbody>\n",
       "    <tr>\n",
       "      <th>0</th>\n",
       "      <td>INTERNATIONAL PAPER GEORGETOWN MILL-29442NTRNT...</td>\n",
       "      <td>2007</td>\n",
       "      <td>Air</td>\n",
       "      <td>Methanol</td>\n",
       "      <td>1513299.26</td>\n",
       "    </tr>\n",
       "    <tr>\n",
       "      <th>1</th>\n",
       "      <td>INTERNATIONAL PAPER GEORGETOWN MILL-29442NTRNT...</td>\n",
       "      <td>2007</td>\n",
       "      <td>Air</td>\n",
       "      <td>Hydrochloric acid</td>\n",
       "      <td>193000.00</td>\n",
       "    </tr>\n",
       "    <tr>\n",
       "      <th>2</th>\n",
       "      <td>INTERNATIONAL PAPER GEORGETOWN MILL-29442NTRNT...</td>\n",
       "      <td>2007</td>\n",
       "      <td>Air</td>\n",
       "      <td>Ammonia</td>\n",
       "      <td>166659.00</td>\n",
       "    </tr>\n",
       "    <tr>\n",
       "      <th>3</th>\n",
       "      <td>INTERNATIONAL PAPER GEORGETOWN MILL-29442NTRNT...</td>\n",
       "      <td>2007</td>\n",
       "      <td>Air</td>\n",
       "      <td>Sulfuric acid</td>\n",
       "      <td>103000.00</td>\n",
       "    </tr>\n",
       "    <tr>\n",
       "      <th>4</th>\n",
       "      <td>INTERNATIONAL PAPER GEORGETOWN MILL-29442NTRNT...</td>\n",
       "      <td>2007</td>\n",
       "      <td>Air</td>\n",
       "      <td>Acetaldehyde</td>\n",
       "      <td>84174.30</td>\n",
       "    </tr>\n",
       "  </tbody>\n",
       "</table>\n",
       "</div>"
      ],
      "text/plain": [
       "                                            Facility  Year Media Type  \\\n",
       "0  INTERNATIONAL PAPER GEORGETOWN MILL-29442NTRNT...  2007        Air   \n",
       "1  INTERNATIONAL PAPER GEORGETOWN MILL-29442NTRNT...  2007        Air   \n",
       "2  INTERNATIONAL PAPER GEORGETOWN MILL-29442NTRNT...  2007        Air   \n",
       "3  INTERNATIONAL PAPER GEORGETOWN MILL-29442NTRNT...  2007        Air   \n",
       "4  INTERNATIONAL PAPER GEORGETOWN MILL-29442NTRNT...  2007        Air   \n",
       "\n",
       "            Chemical  Releases (lbs)  \n",
       "0           Methanol      1513299.26  \n",
       "1  Hydrochloric acid       193000.00  \n",
       "2            Ammonia       166659.00  \n",
       "3      Sulfuric acid       103000.00  \n",
       "4       Acetaldehyde        84174.30  "
      ]
     },
     "execution_count": 5,
     "metadata": {},
     "output_type": "execute_result"
    }
   ],
   "source": [
    "df1.head()"
   ]
  },
  {
   "cell_type": "code",
   "execution_count": 6,
   "metadata": {},
   "outputs": [
    {
     "name": "stdout",
     "output_type": "stream",
     "text": [
      "<class 'pandas.core.frame.DataFrame'>\n",
      "RangeIndex: 42194 entries, 0 to 42193\n",
      "Data columns (total 5 columns):\n",
      "Facility          42194 non-null object\n",
      "Year              42194 non-null int64\n",
      "Media Type        42194 non-null object\n",
      "Chemical          42194 non-null object\n",
      "Releases (lbs)    42194 non-null float64\n",
      "dtypes: float64(1), int64(1), object(3)\n",
      "memory usage: 1.6+ MB\n"
     ]
    }
   ],
   "source": [
    "df1.info()"
   ]
  },
  {
   "cell_type": "code",
   "execution_count": 7,
   "metadata": {},
   "outputs": [
    {
     "data": {
      "text/plain": [
       "array([[<matplotlib.axes._subplots.AxesSubplot object at 0x000001BDA51B7AC8>,\n",
       "        <matplotlib.axes._subplots.AxesSubplot object at 0x000001BDA6632908>]],\n",
       "      dtype=object)"
      ]
     },
     "execution_count": 7,
     "metadata": {},
     "output_type": "execute_result"
    }
   ],
   "source": [
    "df1.hist()"
   ]
  },
  {
   "cell_type": "code",
   "execution_count": 8,
   "metadata": {},
   "outputs": [
    {
     "data": {
      "text/plain": [
       "GIANT CEMENT CO-29448GNTCMPOBOX                                            1446\n",
       "HOLCIM (US) INC HOLLY HILL PLANT-29059SNTCMSCHWY                           1127\n",
       "INTERNATIONAL PAPER GEORGETOWN MILL-29442NTRNTKAMIN                         790\n",
       "INTERNATIONAL PAPER CO EASTOVER MILL-29044NNCMPROUTE                        758\n",
       "NEW-INDY CATAWBA LLC-29704BWTRC5300C                                        687\n",
       "SI GROUP INC-29116THYLCCANNO                                                680\n",
       "CROSS GENERATING STATION-29436CRSSG553CR                                    634\n",
       "KAPSTONE PAPER & PACKAGING CORP-29411WSTVC5600A                             583\n",
       "WESTROCK CP LLC-29502STNCNOLDGE                                             550\n",
       "WINYAH GENERATING STATION-29440WNYHG661ST                                   505\n",
       "DOMINION ENERGY SOUTH CAROLINA - WATEREE STATION-29044STHCR142WA            485\n",
       "DOMTAR PAPER CO-29512WLLMTHWY91                                             478\n",
       "US DOE SAVANNAH RIVER OPS-29802SDSVNSCHWY                                   465\n",
       "DOMINION ENERGY SOUTH CAROLINA - GENCO WILLIAMS STATION-29445WLLMS2242B     465\n",
       "NUCOR STEEL-BERKELEY-29450NCRST1455H                                        424\n",
       "OMNOVA SOLUTIONS INC-29706SQCHMONESE                                        413\n",
       "DOMINION ENERGY SOUTH CAROLINA INC - COPE STATION-29038STHCR405TE           403\n",
       "WEYLCHEM US INC-29045HRDWC2114L                                             402\n",
       "PATHEON API INC-29506RCHCRBUILD                                             378\n",
       "ETHOX CHEMICALS LLC-29605THXCHPERIM                                         367\n",
       "ARCHROMA US INC-29836SNDZCHIGHW                                             366\n",
       "BMW MANUFACTURING CO LLC-29651BMWMN1400H                                    356\n",
       "BP CHEMICAL CO - COOPER RIVER PLANT-29492MCCHMCLEME                         338\n",
       "KOPPERS INC (FLORENCE SC)-29503KPPRSHIGHW                                   308\n",
       "ATOTECH USA LLC-29731TTCHS1750O                                             305\n",
       "BASF CORP-29678NGLHR554MO                                                   300\n",
       "LANXESS CORP-29415LBRGH2151K                                                293\n",
       "AURIGA POLYMERS INC-SPARTANBURG FACILITY-29304HCHSTI85AT                    289\n",
       "NUCOR STEEL-DARLINGTON-29532NCRSTBOX52                                      279\n",
       "GE (GREENVILLE) GAS TURBINES LLC-29602GCXXXI85WO                            265\n",
       "                                                                           ... \n",
       "DAVIS BROTHERS LUMBER CO INC-29675DVSBRHWY12                                  1\n",
       "BLUEWATER MARINE GROUP PLANT 2-29108SBSSB71IND                                1\n",
       "ENGINEERED POLYMER SOLUTION (DBA VALSPAR COATINGS)-29115SSCTD7PRSP            1\n",
       "BERRY PLASTICS CORPORATION-29609TYCPL69WRL                                    1\n",
       "ANTOLIN SPARTANBURG ASSEMBLY-2930WNTLNS2781N                                  1\n",
       "ARGOS CHAPIN CONCRETE PLANT-2903WRDYMX45SAM                                   1\n",
       "REDDY ICE-GAFFNEY-29340TRNGL130PE                                             1\n",
       "PREMIER MARBLE INC-29745PRMRM1605T                                            1\n",
       "READY MIXED CONCRETE #64 CONWAY-2952WRDYMX33USH                               1\n",
       "PRESTIGE COMPOSITE-2907WPRSTG1622T                                            1\n",
       "EVERRIS NA INC SUMMERVILLE SITE-2948WVRRSN2755W                               1\n",
       "STEEL CREEK GALVANIZING CO-2970WSTLCR576TR                                    1\n",
       "MARION CERAMICS INC-29571MRNCRRTE30                                           1\n",
       "EVERGREEN BIODIESEL PRODUCTION FACILITY, LLC.-29687MRTNC1116T                 1\n",
       "CB&I AREVA MOX SERVICES LLC-2980WCBRVMSAVAN                                   1\n",
       "MILLIKEN CO. ROGER MILLIKEN CENTER-29304MLLKN920MI                            1\n",
       "GEORGIA PACIFIC WOOD PRODUCTS LLC MCCORMICK SC-29835GRGPCRTE2B                1\n",
       "CROWN GROUP CO THE GREENVILLE PLANT-2960WCRWNG11MIL                           1\n",
       "DAVIS NEON INC-29058DVSNN18RWL                                                1\n",
       "BLUEWATER MARINE GROUP PLANT 1-29108SPRBT182SE                                1\n",
       "MCCALL FARMS-29541MCCLL6615S                                                  1\n",
       "SAATI AMERICAS INC-2964WSTMRC21FAI                                            1\n",
       "CERAMTEC NA INNOVATIVE CERAMIC ENGINEERING CORP.-29360GNRLLPOBOX              1\n",
       "ARGOS READY MIX MONKS CORNER CONCRETE PLANT-2946WRGSRD133AR                   1\n",
       "HANSON BRICK BLACKSBURG PLANT-29702BRNCL550YO                                 1\n",
       "COBB-VANTRESS INC - KINARDS SC-2935WCBBVN84WDY                                1\n",
       "GRAPHITE METALLIZING CORP-2935WGRPHT192AS                                     1\n",
       "EASTON INDUSTRIES-29577STNNDHWY17                                             1\n",
       "WM LAMPTRACKER INC-29697WMLMP19TWE                                            1\n",
       "SHERWIN-WILLIAMS CO-29307SHRWN178DA                                           1\n",
       "Name: Facility, Length: 697, dtype: int64"
      ]
     },
     "execution_count": 8,
     "metadata": {},
     "output_type": "execute_result"
    }
   ],
   "source": [
    "df1[\"Facility\"].value_counts()"
   ]
  },
  {
   "cell_type": "code",
   "execution_count": 9,
   "metadata": {},
   "outputs": [],
   "source": [
    "#df_facility = df1[\"Facility\"].value_counts() > 490"
   ]
  },
  {
   "cell_type": "code",
   "execution_count": 10,
   "metadata": {},
   "outputs": [
    {
     "data": {
      "text/plain": [
       "0        INTERNATIONAL PAPER GEORGETOWN MILL-29442NTRNT...\n",
       "1        INTERNATIONAL PAPER GEORGETOWN MILL-29442NTRNT...\n",
       "2        INTERNATIONAL PAPER GEORGETOWN MILL-29442NTRNT...\n",
       "3        INTERNATIONAL PAPER GEORGETOWN MILL-29442NTRNT...\n",
       "4        INTERNATIONAL PAPER GEORGETOWN MILL-29442NTRNT...\n",
       "5        INTERNATIONAL PAPER GEORGETOWN MILL-29442NTRNT...\n",
       "6        INTERNATIONAL PAPER GEORGETOWN MILL-29442NTRNT...\n",
       "7        INTERNATIONAL PAPER GEORGETOWN MILL-29442NTRNT...\n",
       "8        INTERNATIONAL PAPER GEORGETOWN MILL-29442NTRNT...\n",
       "9        INTERNATIONAL PAPER GEORGETOWN MILL-29442NTRNT...\n",
       "10       INTERNATIONAL PAPER GEORGETOWN MILL-29442NTRNT...\n",
       "11       INTERNATIONAL PAPER GEORGETOWN MILL-29442NTRNT...\n",
       "12       INTERNATIONAL PAPER GEORGETOWN MILL-29442NTRNT...\n",
       "13       INTERNATIONAL PAPER GEORGETOWN MILL-29442NTRNT...\n",
       "14       INTERNATIONAL PAPER GEORGETOWN MILL-29442NTRNT...\n",
       "15       INTERNATIONAL PAPER GEORGETOWN MILL-29442NTRNT...\n",
       "16       INTERNATIONAL PAPER GEORGETOWN MILL-29442NTRNT...\n",
       "17       INTERNATIONAL PAPER GEORGETOWN MILL-29442NTRNT...\n",
       "18       INTERNATIONAL PAPER GEORGETOWN MILL-29442NTRNT...\n",
       "19       INTERNATIONAL PAPER GEORGETOWN MILL-29442NTRNT...\n",
       "20       INTERNATIONAL PAPER GEORGETOWN MILL-29442NTRNT...\n",
       "21       INTERNATIONAL PAPER GEORGETOWN MILL-29442NTRNT...\n",
       "22       INTERNATIONAL PAPER GEORGETOWN MILL-29442NTRNT...\n",
       "23       INTERNATIONAL PAPER GEORGETOWN MILL-29442NTRNT...\n",
       "24       INTERNATIONAL PAPER GEORGETOWN MILL-29442NTRNT...\n",
       "25       INTERNATIONAL PAPER GEORGETOWN MILL-29442NTRNT...\n",
       "26       INTERNATIONAL PAPER GEORGETOWN MILL-29442NTRNT...\n",
       "27       INTERNATIONAL PAPER GEORGETOWN MILL-29442NTRNT...\n",
       "28       INTERNATIONAL PAPER GEORGETOWN MILL-29442NTRNT...\n",
       "29       INTERNATIONAL PAPER GEORGETOWN MILL-29442NTRNT...\n",
       "                               ...                        \n",
       "42164              OLDCASTLE LAWN & GARDEN-2848WLDCST372UP\n",
       "42165                     ROYCE ASSOCIATES-2934WRYCSS41PEA\n",
       "42166    GE APPLIANCES A HAIER CO - CAMDEN-2902WHRMRCBLACK\n",
       "42167    GE APPLIANCES A HAIER CO - CAMDEN-2902WHRMRCBLACK\n",
       "42168    GE APPLIANCES A HAIER CO - CAMDEN-2902WHRMRCBLACK\n",
       "42169    GE APPLIANCES A HAIER CO - CAMDEN-2902WHRMRCBLACK\n",
       "42170    GE APPLIANCES A HAIER CO - CAMDEN-2902WHRMRCBLACK\n",
       "42171    GE APPLIANCES A HAIER CO - CAMDEN-2902WHRMRCBLACK\n",
       "42172    GE APPLIANCES A HAIER CO - CAMDEN-2902WHRMRCBLACK\n",
       "42173    GE APPLIANCES A HAIER CO - CAMDEN-2902WHRMRCBLACK\n",
       "42174    GE APPLIANCES A HAIER CO - CAMDEN-2902WHRMRCBLACK\n",
       "42175                      ANSALDO STS USA-29006NNSWT645RU\n",
       "42176                      ANSALDO STS USA-29006NNSWT645RU\n",
       "42177                      ANSALDO STS USA-29006NNSWT645RU\n",
       "42178                      ANSALDO STS USA-29006NNSWT645RU\n",
       "42179                      ANSALDO STS USA-29006NNSWT645RU\n",
       "42180    BOEING SOUTH CAROLINA INTERIORS RESPONSIBILITY...\n",
       "42181    BOEING SOUTH CAROLINA INTERIORS RESPONSIBILITY...\n",
       "42182    SHAW INDUSTRIES GROUP INC-PLANT H6-2932WSHWND2...\n",
       "42183    SHAW INDUSTRIES GROUP INC-PLANT H6-2932WSHWND2...\n",
       "42184    SHAW INDUSTRIES GROUP INC-PLANT H6-2932WSHWND2...\n",
       "42185    SHAW INDUSTRIES GROUP INC-PLANT H6-2932WSHWND2...\n",
       "42186    SHAW INDUSTRIES GROUP INC-PLANT H6-2932WSHWND2...\n",
       "42187    SHAW INDUSTRIES GROUP INC-PLANT H6-2932WSHWND2...\n",
       "42188       SHAW INDUSTRIES GROUP-PLANT H5-2932WSHWND877TR\n",
       "42189       SHAW INDUSTRIES GROUP-PLANT H5-2932WSHWND877TR\n",
       "42190       SHAW INDUSTRIES GROUP-PLANT H5-2932WSHWND877TR\n",
       "42191       SHAW INDUSTRIES GROUP-PLANT H5-2932WSHWND877TR\n",
       "42192       SHAW INDUSTRIES GROUP-PLANT H5-2932WSHWND877TR\n",
       "42193       SHAW INDUSTRIES GROUP-PLANT H5-2932WSHWND877TR\n",
       "Name: Facility, Length: 42194, dtype: object"
      ]
     },
     "execution_count": 10,
     "metadata": {},
     "output_type": "execute_result"
    }
   ],
   "source": [
    "df1[\"Facility\"].str.strip()"
   ]
  },
  {
   "cell_type": "code",
   "execution_count": 94,
   "metadata": {},
   "outputs": [
    {
     "data": {
      "text/html": [
       "<div>\n",
       "<style scoped>\n",
       "    .dataframe tbody tr th:only-of-type {\n",
       "        vertical-align: middle;\n",
       "    }\n",
       "\n",
       "    .dataframe tbody tr th {\n",
       "        vertical-align: top;\n",
       "    }\n",
       "\n",
       "    .dataframe thead th {\n",
       "        text-align: right;\n",
       "    }\n",
       "</style>\n",
       "<table border=\"1\" class=\"dataframe\">\n",
       "  <thead>\n",
       "    <tr style=\"text-align: right;\">\n",
       "      <th></th>\n",
       "      <th>Facility</th>\n",
       "      <th>Year</th>\n",
       "      <th>Media Type</th>\n",
       "      <th>Chemical</th>\n",
       "      <th>Releases (lbs)</th>\n",
       "      <th>Region</th>\n",
       "    </tr>\n",
       "  </thead>\n",
       "  <tbody>\n",
       "    <tr>\n",
       "      <th>0</th>\n",
       "      <td>INTERNATIONAL PAPER GEORGETOWN MILL-29442NTRNT...</td>\n",
       "      <td>2007</td>\n",
       "      <td>Air</td>\n",
       "      <td>Methanol</td>\n",
       "      <td>1513299</td>\n",
       "      <td>Georgetown</td>\n",
       "    </tr>\n",
       "    <tr>\n",
       "      <th>1</th>\n",
       "      <td>INTERNATIONAL PAPER GEORGETOWN MILL-29442NTRNT...</td>\n",
       "      <td>2007</td>\n",
       "      <td>Air</td>\n",
       "      <td>Hydrochloric acid</td>\n",
       "      <td>193000</td>\n",
       "      <td>Catawba</td>\n",
       "    </tr>\n",
       "    <tr>\n",
       "      <th>2</th>\n",
       "      <td>INTERNATIONAL PAPER GEORGETOWN MILL-29442NTRNT...</td>\n",
       "      <td>2007</td>\n",
       "      <td>Air</td>\n",
       "      <td>Ammonia</td>\n",
       "      <td>166659</td>\n",
       "      <td>Florence</td>\n",
       "    </tr>\n",
       "    <tr>\n",
       "      <th>3</th>\n",
       "      <td>INTERNATIONAL PAPER GEORGETOWN MILL-29442NTRNT...</td>\n",
       "      <td>2007</td>\n",
       "      <td>Air</td>\n",
       "      <td>Sulfuric acid</td>\n",
       "      <td>103000</td>\n",
       "      <td>Columbia</td>\n",
       "    </tr>\n",
       "    <tr>\n",
       "      <th>4</th>\n",
       "      <td>INTERNATIONAL PAPER GEORGETOWN MILL-29442NTRNT...</td>\n",
       "      <td>2007</td>\n",
       "      <td>Air</td>\n",
       "      <td>Acetaldehyde</td>\n",
       "      <td>84174</td>\n",
       "      <td>Orangeburg</td>\n",
       "    </tr>\n",
       "  </tbody>\n",
       "</table>\n",
       "</div>"
      ],
      "text/plain": [
       "                                            Facility  Year Media Type  \\\n",
       "0  INTERNATIONAL PAPER GEORGETOWN MILL-29442NTRNT...  2007        Air   \n",
       "1  INTERNATIONAL PAPER GEORGETOWN MILL-29442NTRNT...  2007        Air   \n",
       "2  INTERNATIONAL PAPER GEORGETOWN MILL-29442NTRNT...  2007        Air   \n",
       "3  INTERNATIONAL PAPER GEORGETOWN MILL-29442NTRNT...  2007        Air   \n",
       "4  INTERNATIONAL PAPER GEORGETOWN MILL-29442NTRNT...  2007        Air   \n",
       "\n",
       "            Chemical  Releases (lbs)       Region  \n",
       "0           Methanol         1513299   Georgetown  \n",
       "1  Hydrochloric acid          193000      Catawba  \n",
       "2            Ammonia          166659     Florence  \n",
       "3      Sulfuric acid          103000     Columbia  \n",
       "4       Acetaldehyde           84174   Orangeburg  "
      ]
     },
     "execution_count": 94,
     "metadata": {},
     "output_type": "execute_result"
    }
   ],
   "source": [
    "df1.head()"
   ]
  },
  {
   "cell_type": "markdown",
   "metadata": {},
   "source": [
    "Initializing the process of obtaining top 7 facilities."
   ]
  },
  {
   "cell_type": "code",
   "execution_count": 95,
   "metadata": {},
   "outputs": [
    {
     "data": {
      "text/html": [
       "<div>\n",
       "<style scoped>\n",
       "    .dataframe tbody tr th:only-of-type {\n",
       "        vertical-align: middle;\n",
       "    }\n",
       "\n",
       "    .dataframe tbody tr th {\n",
       "        vertical-align: top;\n",
       "    }\n",
       "\n",
       "    .dataframe thead th {\n",
       "        text-align: right;\n",
       "    }\n",
       "</style>\n",
       "<table border=\"1\" class=\"dataframe\">\n",
       "  <thead>\n",
       "    <tr style=\"text-align: right;\">\n",
       "      <th></th>\n",
       "      <th>Year</th>\n",
       "      <th>Releases (lbs)</th>\n",
       "    </tr>\n",
       "    <tr>\n",
       "      <th>Facility</th>\n",
       "      <th></th>\n",
       "      <th></th>\n",
       "    </tr>\n",
       "  </thead>\n",
       "  <tbody>\n",
       "    <tr>\n",
       "      <th>250 - KERSHAW OILSEEDS-29067RCHRD413NH</th>\n",
       "      <td>78480</td>\n",
       "      <td>1784930</td>\n",
       "    </tr>\n",
       "    <tr>\n",
       "      <th>3G MERMET-29330MRMTW597NM</th>\n",
       "      <td>58384</td>\n",
       "      <td>67309</td>\n",
       "    </tr>\n",
       "    <tr>\n",
       "      <th>3M CO-GREENVILLE-29606MCMPNPERIM</th>\n",
       "      <td>223212</td>\n",
       "      <td>1233436</td>\n",
       "    </tr>\n",
       "    <tr>\n",
       "      <th>3V SIGMA USA-29440VCHMCPENNY</th>\n",
       "      <td>505293</td>\n",
       "      <td>6514539</td>\n",
       "    </tr>\n",
       "    <tr>\n",
       "      <th>A O SMITH WATER PRODUCTS CO-29101SMTHWUSHWY</th>\n",
       "      <td>60390</td>\n",
       "      <td>380297</td>\n",
       "    </tr>\n",
       "  </tbody>\n",
       "</table>\n",
       "</div>"
      ],
      "text/plain": [
       "                                               Year  Releases (lbs)\n",
       "Facility                                                           \n",
       "250 - KERSHAW OILSEEDS-29067RCHRD413NH        78480         1784930\n",
       "3G MERMET-29330MRMTW597NM                     58384           67309\n",
       "3M CO-GREENVILLE-29606MCMPNPERIM             223212         1233436\n",
       "3V SIGMA USA-29440VCHMCPENNY                 505293         6514539\n",
       "A O SMITH WATER PRODUCTS CO-29101SMTHWUSHWY   60390          380297"
      ]
     },
     "execution_count": 95,
     "metadata": {},
     "output_type": "execute_result"
    }
   ],
   "source": [
    "df2 = df1.groupby([\"Facility\"]).sum()\n",
    "df2.head()"
   ]
  },
  {
   "cell_type": "code",
   "execution_count": 13,
   "metadata": {},
   "outputs": [],
   "source": [
    "df2 = df2.nlargest(10,\"Releases (lbs)\")"
   ]
  },
  {
   "cell_type": "code",
   "execution_count": 14,
   "metadata": {},
   "outputs": [],
   "source": [
    "df2.to_csv('region.csv', sep=',')"
   ]
  },
  {
   "cell_type": "code",
   "execution_count": 16,
   "metadata": {},
   "outputs": [
    {
     "data": {
      "application/javascript": [
       "\n",
       "        if (window._pyforest_update_imports_cell) { window._pyforest_update_imports_cell('import pandas as pd'); }\n",
       "    "
      ],
      "text/plain": [
       "<IPython.core.display.Javascript object>"
      ]
     },
     "metadata": {},
     "output_type": "display_data"
    }
   ],
   "source": [
    "heatmap_df1 = pd.pivot_table(df1, values='Releases (lbs)', \n",
    "                     index=['Facility'], \n",
    "                     columns='Year')"
   ]
  },
  {
   "cell_type": "code",
   "execution_count": 17,
   "metadata": {},
   "outputs": [],
   "source": [
    "# [[\"GIANT CEMENT CO-29448GNTCMPOBOX\", \"HOLCIM (US) INC HOLLY HILL PLANT-29059SNTCMSCHWY\", \"INTERNATIONAL PAPER GEORGETOWN MILL-29442NTRNTKAMIN\",\"INTERNATIONAL PAPER CO EASTOVER MILL-29044NNCMPROUTE\", \"NEW-INDY CATAWBA LLC-29704BWTRC5300C\", \"SI GROUP INC-29116THYLCCANNO\",\"CROSS GENERATING STATION-29436CRSSG553CR\", \"KAPSTONE PAPER & PACKAGING CORP-29411WSTVC5600A\",\"WESTROCK CP LLC-29502STNCNOLDGE\",\n",
    "# \"WINYAH GENERATING STATION-29440WNYHG661ST\"]]"
   ]
  },
  {
   "cell_type": "code",
   "execution_count": 18,
   "metadata": {},
   "outputs": [
    {
     "data": {
      "application/javascript": [
       "\n",
       "        if (window._pyforest_update_imports_cell) { window._pyforest_update_imports_cell('import pandas as pd\\nimport seaborn as sns'); }\n",
       "    "
      ],
      "text/plain": [
       "<IPython.core.display.Javascript object>"
      ]
     },
     "metadata": {},
     "output_type": "display_data"
    },
    {
     "data": {
      "text/plain": [
       "<matplotlib.axes._subplots.AxesSubplot at 0x1bda821dfd0>"
      ]
     },
     "execution_count": 18,
     "metadata": {},
     "output_type": "execute_result"
    },
    {
     "data": {
      "image/png": "[encoded data removed]",
      "text/plain": [
       "<Figure size 432x288 with 2 Axes>"
      ]
     },
     "metadata": {
      "needs_background": "light"
     },
     "output_type": "display_data"
    }
   ],
   "source": [
    "# Releases wrt facitlity and years.\n",
    "\n",
    "sns.heatmap(heatmap_df1, cmap=\"coolwarm\")"
   ]
  },
  {
   "cell_type": "code",
   "execution_count": 19,
   "metadata": {},
   "outputs": [],
   "source": [
    "df1[\"Releases (lbs)\"] = df1[\"Releases (lbs)\"].astype(int)"
   ]
  },
  {
   "cell_type": "code",
   "execution_count": 97,
   "metadata": {},
   "outputs": [
    {
     "data": {
      "text/html": [
       "<div>\n",
       "<style scoped>\n",
       "    .dataframe tbody tr th:only-of-type {\n",
       "        vertical-align: middle;\n",
       "    }\n",
       "\n",
       "    .dataframe tbody tr th {\n",
       "        vertical-align: top;\n",
       "    }\n",
       "\n",
       "    .dataframe thead th {\n",
       "        text-align: right;\n",
       "    }\n",
       "</style>\n",
       "<table border=\"1\" class=\"dataframe\">\n",
       "  <thead>\n",
       "    <tr style=\"text-align: right;\">\n",
       "      <th></th>\n",
       "      <th>Facility</th>\n",
       "      <th>Year</th>\n",
       "      <th>Media Type</th>\n",
       "      <th>Chemical</th>\n",
       "      <th>Releases (lbs)</th>\n",
       "      <th>Region</th>\n",
       "    </tr>\n",
       "  </thead>\n",
       "  <tbody>\n",
       "    <tr>\n",
       "      <th>0</th>\n",
       "      <td>INTERNATIONAL PAPER GEORGETOWN MILL-29442NTRNT...</td>\n",
       "      <td>2007</td>\n",
       "      <td>Air</td>\n",
       "      <td>Methanol</td>\n",
       "      <td>1513299</td>\n",
       "      <td>Georgetown</td>\n",
       "    </tr>\n",
       "    <tr>\n",
       "      <th>1</th>\n",
       "      <td>INTERNATIONAL PAPER GEORGETOWN MILL-29442NTRNT...</td>\n",
       "      <td>2007</td>\n",
       "      <td>Air</td>\n",
       "      <td>Hydrochloric acid</td>\n",
       "      <td>193000</td>\n",
       "      <td>Catawba</td>\n",
       "    </tr>\n",
       "    <tr>\n",
       "      <th>2</th>\n",
       "      <td>INTERNATIONAL PAPER GEORGETOWN MILL-29442NTRNT...</td>\n",
       "      <td>2007</td>\n",
       "      <td>Air</td>\n",
       "      <td>Ammonia</td>\n",
       "      <td>166659</td>\n",
       "      <td>Florence</td>\n",
       "    </tr>\n",
       "    <tr>\n",
       "      <th>3</th>\n",
       "      <td>INTERNATIONAL PAPER GEORGETOWN MILL-29442NTRNT...</td>\n",
       "      <td>2007</td>\n",
       "      <td>Air</td>\n",
       "      <td>Sulfuric acid</td>\n",
       "      <td>103000</td>\n",
       "      <td>Columbia</td>\n",
       "    </tr>\n",
       "    <tr>\n",
       "      <th>4</th>\n",
       "      <td>INTERNATIONAL PAPER GEORGETOWN MILL-29442NTRNT...</td>\n",
       "      <td>2007</td>\n",
       "      <td>Air</td>\n",
       "      <td>Acetaldehyde</td>\n",
       "      <td>84174</td>\n",
       "      <td>Orangeburg</td>\n",
       "    </tr>\n",
       "    <tr>\n",
       "      <th>5</th>\n",
       "      <td>INTERNATIONAL PAPER GEORGETOWN MILL-29442NTRNT...</td>\n",
       "      <td>2007</td>\n",
       "      <td>Air</td>\n",
       "      <td>Chloromethane</td>\n",
       "      <td>65204</td>\n",
       "      <td>Pineville</td>\n",
       "    </tr>\n",
       "    <tr>\n",
       "      <th>6</th>\n",
       "      <td>INTERNATIONAL PAPER GEORGETOWN MILL-29442NTRNT...</td>\n",
       "      <td>2007</td>\n",
       "      <td>Air</td>\n",
       "      <td>Zinc and zinc compounds</td>\n",
       "      <td>31100</td>\n",
       "      <td>Ehrhardt</td>\n",
       "    </tr>\n",
       "    <tr>\n",
       "      <th>7</th>\n",
       "      <td>INTERNATIONAL PAPER GEORGETOWN MILL-29442NTRNT...</td>\n",
       "      <td>2007</td>\n",
       "      <td>Air</td>\n",
       "      <td>Formaldehyde</td>\n",
       "      <td>22993</td>\n",
       "      <td>NaN</td>\n",
       "    </tr>\n",
       "    <tr>\n",
       "      <th>8</th>\n",
       "      <td>INTERNATIONAL PAPER GEORGETOWN MILL-29442NTRNT...</td>\n",
       "      <td>2007</td>\n",
       "      <td>Air</td>\n",
       "      <td>Chlorine dioxide</td>\n",
       "      <td>11800</td>\n",
       "      <td>NaN</td>\n",
       "    </tr>\n",
       "    <tr>\n",
       "      <th>9</th>\n",
       "      <td>INTERNATIONAL PAPER GEORGETOWN MILL-29442NTRNT...</td>\n",
       "      <td>2007</td>\n",
       "      <td>Air</td>\n",
       "      <td>Phenol</td>\n",
       "      <td>10332</td>\n",
       "      <td>NaN</td>\n",
       "    </tr>\n",
       "    <tr>\n",
       "      <th>10</th>\n",
       "      <td>INTERNATIONAL PAPER GEORGETOWN MILL-29442NTRNT...</td>\n",
       "      <td>2007</td>\n",
       "      <td>Air</td>\n",
       "      <td>Manganese and manganese compounds</td>\n",
       "      <td>1440</td>\n",
       "      <td>NaN</td>\n",
       "    </tr>\n",
       "    <tr>\n",
       "      <th>11</th>\n",
       "      <td>INTERNATIONAL PAPER GEORGETOWN MILL-29442NTRNT...</td>\n",
       "      <td>2007</td>\n",
       "      <td>Air</td>\n",
       "      <td>Vanadium and vanadium compounds</td>\n",
       "      <td>1000</td>\n",
       "      <td>NaN</td>\n",
       "    </tr>\n",
       "    <tr>\n",
       "      <th>12</th>\n",
       "      <td>INTERNATIONAL PAPER GEORGETOWN MILL-29442NTRNT...</td>\n",
       "      <td>2007</td>\n",
       "      <td>Air</td>\n",
       "      <td>Chlorine</td>\n",
       "      <td>885</td>\n",
       "      <td>NaN</td>\n",
       "    </tr>\n",
       "    <tr>\n",
       "      <th>13</th>\n",
       "      <td>INTERNATIONAL PAPER GEORGETOWN MILL-29442NTRNT...</td>\n",
       "      <td>2007</td>\n",
       "      <td>Air</td>\n",
       "      <td>Polycyclic aromatic compounds</td>\n",
       "      <td>570</td>\n",
       "      <td>NaN</td>\n",
       "    </tr>\n",
       "    <tr>\n",
       "      <th>14</th>\n",
       "      <td>INTERNATIONAL PAPER GEORGETOWN MILL-29442NTRNT...</td>\n",
       "      <td>2007</td>\n",
       "      <td>Air</td>\n",
       "      <td>Lead and lead compounds</td>\n",
       "      <td>198</td>\n",
       "      <td>NaN</td>\n",
       "    </tr>\n",
       "    <tr>\n",
       "      <th>15</th>\n",
       "      <td>INTERNATIONAL PAPER GEORGETOWN MILL-29442NTRNT...</td>\n",
       "      <td>2007</td>\n",
       "      <td>Air</td>\n",
       "      <td>Barium and barium compounds</td>\n",
       "      <td>158</td>\n",
       "      <td>NaN</td>\n",
       "    </tr>\n",
       "    <tr>\n",
       "      <th>16</th>\n",
       "      <td>INTERNATIONAL PAPER GEORGETOWN MILL-29442NTRNT...</td>\n",
       "      <td>2007</td>\n",
       "      <td>Air</td>\n",
       "      <td>Copper and copper compounds</td>\n",
       "      <td>58</td>\n",
       "      <td>NaN</td>\n",
       "    </tr>\n",
       "    <tr>\n",
       "      <th>17</th>\n",
       "      <td>INTERNATIONAL PAPER GEORGETOWN MILL-29442NTRNT...</td>\n",
       "      <td>2007</td>\n",
       "      <td>Air</td>\n",
       "      <td>Mercury and mercury compounds</td>\n",
       "      <td>16</td>\n",
       "      <td>NaN</td>\n",
       "    </tr>\n",
       "    <tr>\n",
       "      <th>18</th>\n",
       "      <td>INTERNATIONAL PAPER GEORGETOWN MILL-29442NTRNT...</td>\n",
       "      <td>2007</td>\n",
       "      <td>Air</td>\n",
       "      <td>Benzo(g,h,i)perylene</td>\n",
       "      <td>6</td>\n",
       "      <td>NaN</td>\n",
       "    </tr>\n",
       "    <tr>\n",
       "      <th>19</th>\n",
       "      <td>INTERNATIONAL PAPER GEORGETOWN MILL-29442NTRNT...</td>\n",
       "      <td>2007</td>\n",
       "      <td>Air</td>\n",
       "      <td>Dioxin and dioxin-like compounds</td>\n",
       "      <td>0</td>\n",
       "      <td>NaN</td>\n",
       "    </tr>\n",
       "    <tr>\n",
       "      <th>20</th>\n",
       "      <td>INTERNATIONAL PAPER GEORGETOWN MILL-29442NTRNT...</td>\n",
       "      <td>2007</td>\n",
       "      <td>Water</td>\n",
       "      <td>Manganese and manganese compounds</td>\n",
       "      <td>37962</td>\n",
       "      <td>NaN</td>\n",
       "    </tr>\n",
       "    <tr>\n",
       "      <th>21</th>\n",
       "      <td>INTERNATIONAL PAPER GEORGETOWN MILL-29442NTRNT...</td>\n",
       "      <td>2007</td>\n",
       "      <td>Water</td>\n",
       "      <td>Nitrate compounds (water dissociable)</td>\n",
       "      <td>29061</td>\n",
       "      <td>NaN</td>\n",
       "    </tr>\n",
       "    <tr>\n",
       "      <th>22</th>\n",
       "      <td>INTERNATIONAL PAPER GEORGETOWN MILL-29442NTRNT...</td>\n",
       "      <td>2007</td>\n",
       "      <td>Water</td>\n",
       "      <td>Ammonia</td>\n",
       "      <td>16918</td>\n",
       "      <td>NaN</td>\n",
       "    </tr>\n",
       "    <tr>\n",
       "      <th>23</th>\n",
       "      <td>INTERNATIONAL PAPER GEORGETOWN MILL-29442NTRNT...</td>\n",
       "      <td>2007</td>\n",
       "      <td>Water</td>\n",
       "      <td>Formaldehyde</td>\n",
       "      <td>7173</td>\n",
       "      <td>NaN</td>\n",
       "    </tr>\n",
       "    <tr>\n",
       "      <th>24</th>\n",
       "      <td>INTERNATIONAL PAPER GEORGETOWN MILL-29442NTRNT...</td>\n",
       "      <td>2007</td>\n",
       "      <td>Water</td>\n",
       "      <td>Zinc and zinc compounds</td>\n",
       "      <td>7015</td>\n",
       "      <td>NaN</td>\n",
       "    </tr>\n",
       "    <tr>\n",
       "      <th>25</th>\n",
       "      <td>INTERNATIONAL PAPER GEORGETOWN MILL-29442NTRNT...</td>\n",
       "      <td>2007</td>\n",
       "      <td>Water</td>\n",
       "      <td>Vanadium and vanadium compounds</td>\n",
       "      <td>1972</td>\n",
       "      <td>NaN</td>\n",
       "    </tr>\n",
       "    <tr>\n",
       "      <th>26</th>\n",
       "      <td>INTERNATIONAL PAPER GEORGETOWN MILL-29442NTRNT...</td>\n",
       "      <td>2007</td>\n",
       "      <td>Water</td>\n",
       "      <td>Acetaldehyde</td>\n",
       "      <td>1171</td>\n",
       "      <td>NaN</td>\n",
       "    </tr>\n",
       "    <tr>\n",
       "      <th>27</th>\n",
       "      <td>INTERNATIONAL PAPER GEORGETOWN MILL-29442NTRNT...</td>\n",
       "      <td>2007</td>\n",
       "      <td>Water</td>\n",
       "      <td>Formic acid</td>\n",
       "      <td>564</td>\n",
       "      <td>NaN</td>\n",
       "    </tr>\n",
       "    <tr>\n",
       "      <th>28</th>\n",
       "      <td>INTERNATIONAL PAPER GEORGETOWN MILL-29442NTRNT...</td>\n",
       "      <td>2007</td>\n",
       "      <td>Water</td>\n",
       "      <td>Copper and copper compounds</td>\n",
       "      <td>412</td>\n",
       "      <td>NaN</td>\n",
       "    </tr>\n",
       "    <tr>\n",
       "      <th>29</th>\n",
       "      <td>INTERNATIONAL PAPER GEORGETOWN MILL-29442NTRNT...</td>\n",
       "      <td>2007</td>\n",
       "      <td>Water</td>\n",
       "      <td>Lead and lead compounds</td>\n",
       "      <td>82</td>\n",
       "      <td>NaN</td>\n",
       "    </tr>\n",
       "    <tr>\n",
       "      <th>...</th>\n",
       "      <td>...</td>\n",
       "      <td>...</td>\n",
       "      <td>...</td>\n",
       "      <td>...</td>\n",
       "      <td>...</td>\n",
       "      <td>...</td>\n",
       "    </tr>\n",
       "    <tr>\n",
       "      <th>42164</th>\n",
       "      <td>OLDCASTLE LAWN &amp; GARDEN-2848WLDCST372UP</td>\n",
       "      <td>2015</td>\n",
       "      <td>Air</td>\n",
       "      <td>Lead and lead compounds</td>\n",
       "      <td>0</td>\n",
       "      <td>NaN</td>\n",
       "    </tr>\n",
       "    <tr>\n",
       "      <th>42165</th>\n",
       "      <td>ROYCE ASSOCIATES-2934WRYCSS41PEA</td>\n",
       "      <td>2014</td>\n",
       "      <td>Water</td>\n",
       "      <td>Sodium nitrite</td>\n",
       "      <td>0</td>\n",
       "      <td>NaN</td>\n",
       "    </tr>\n",
       "    <tr>\n",
       "      <th>42166</th>\n",
       "      <td>GE APPLIANCES A HAIER CO - CAMDEN-2902WHRMRCBLACK</td>\n",
       "      <td>2011</td>\n",
       "      <td>Air</td>\n",
       "      <td>Diisocyanates</td>\n",
       "      <td>0</td>\n",
       "      <td>NaN</td>\n",
       "    </tr>\n",
       "    <tr>\n",
       "      <th>42167</th>\n",
       "      <td>GE APPLIANCES A HAIER CO - CAMDEN-2902WHRMRCBLACK</td>\n",
       "      <td>2012</td>\n",
       "      <td>Air</td>\n",
       "      <td>Diisocyanates</td>\n",
       "      <td>0</td>\n",
       "      <td>NaN</td>\n",
       "    </tr>\n",
       "    <tr>\n",
       "      <th>42168</th>\n",
       "      <td>GE APPLIANCES A HAIER CO - CAMDEN-2902WHRMRCBLACK</td>\n",
       "      <td>2013</td>\n",
       "      <td>Air</td>\n",
       "      <td>Diisocyanates</td>\n",
       "      <td>0</td>\n",
       "      <td>NaN</td>\n",
       "    </tr>\n",
       "    <tr>\n",
       "      <th>42169</th>\n",
       "      <td>GE APPLIANCES A HAIER CO - CAMDEN-2902WHRMRCBLACK</td>\n",
       "      <td>2014</td>\n",
       "      <td>Air</td>\n",
       "      <td>Diisocyanates</td>\n",
       "      <td>0</td>\n",
       "      <td>NaN</td>\n",
       "    </tr>\n",
       "    <tr>\n",
       "      <th>42170</th>\n",
       "      <td>GE APPLIANCES A HAIER CO - CAMDEN-2902WHRMRCBLACK</td>\n",
       "      <td>2015</td>\n",
       "      <td>Air</td>\n",
       "      <td>Diisocyanates</td>\n",
       "      <td>0</td>\n",
       "      <td>NaN</td>\n",
       "    </tr>\n",
       "    <tr>\n",
       "      <th>42171</th>\n",
       "      <td>GE APPLIANCES A HAIER CO - CAMDEN-2902WHRMRCBLACK</td>\n",
       "      <td>2016</td>\n",
       "      <td>Air</td>\n",
       "      <td>Diisocyanates</td>\n",
       "      <td>0</td>\n",
       "      <td>NaN</td>\n",
       "    </tr>\n",
       "    <tr>\n",
       "      <th>42172</th>\n",
       "      <td>GE APPLIANCES A HAIER CO - CAMDEN-2902WHRMRCBLACK</td>\n",
       "      <td>2017</td>\n",
       "      <td>Air</td>\n",
       "      <td>Diisocyanates</td>\n",
       "      <td>0</td>\n",
       "      <td>NaN</td>\n",
       "    </tr>\n",
       "    <tr>\n",
       "      <th>42173</th>\n",
       "      <td>GE APPLIANCES A HAIER CO - CAMDEN-2902WHRMRCBLACK</td>\n",
       "      <td>2018</td>\n",
       "      <td>Air</td>\n",
       "      <td>Diisocyanates</td>\n",
       "      <td>0</td>\n",
       "      <td>NaN</td>\n",
       "    </tr>\n",
       "    <tr>\n",
       "      <th>42174</th>\n",
       "      <td>GE APPLIANCES A HAIER CO - CAMDEN-2902WHRMRCBLACK</td>\n",
       "      <td>2019</td>\n",
       "      <td>Air</td>\n",
       "      <td>Diisocyanates</td>\n",
       "      <td>0</td>\n",
       "      <td>NaN</td>\n",
       "    </tr>\n",
       "    <tr>\n",
       "      <th>42175</th>\n",
       "      <td>ANSALDO STS USA-29006NNSWT645RU</td>\n",
       "      <td>2009</td>\n",
       "      <td>Air</td>\n",
       "      <td>Lead and lead compounds</td>\n",
       "      <td>0</td>\n",
       "      <td>NaN</td>\n",
       "    </tr>\n",
       "    <tr>\n",
       "      <th>42176</th>\n",
       "      <td>ANSALDO STS USA-29006NNSWT645RU</td>\n",
       "      <td>2010</td>\n",
       "      <td>Air</td>\n",
       "      <td>Lead and lead compounds</td>\n",
       "      <td>0</td>\n",
       "      <td>NaN</td>\n",
       "    </tr>\n",
       "    <tr>\n",
       "      <th>42177</th>\n",
       "      <td>ANSALDO STS USA-29006NNSWT645RU</td>\n",
       "      <td>2011</td>\n",
       "      <td>Air</td>\n",
       "      <td>Lead and lead compounds</td>\n",
       "      <td>0</td>\n",
       "      <td>NaN</td>\n",
       "    </tr>\n",
       "    <tr>\n",
       "      <th>42178</th>\n",
       "      <td>ANSALDO STS USA-29006NNSWT645RU</td>\n",
       "      <td>2012</td>\n",
       "      <td>Air</td>\n",
       "      <td>Lead and lead compounds</td>\n",
       "      <td>0</td>\n",
       "      <td>NaN</td>\n",
       "    </tr>\n",
       "    <tr>\n",
       "      <th>42179</th>\n",
       "      <td>ANSALDO STS USA-29006NNSWT645RU</td>\n",
       "      <td>2019</td>\n",
       "      <td>Air</td>\n",
       "      <td>Diisocyanates</td>\n",
       "      <td>0</td>\n",
       "      <td>NaN</td>\n",
       "    </tr>\n",
       "    <tr>\n",
       "      <th>42180</th>\n",
       "      <td>BOEING SOUTH CAROLINA INTERIORS RESPONSIBILITY...</td>\n",
       "      <td>2018</td>\n",
       "      <td>Air</td>\n",
       "      <td>Tetrabromobisphenol-A (TBBPA)</td>\n",
       "      <td>0</td>\n",
       "      <td>NaN</td>\n",
       "    </tr>\n",
       "    <tr>\n",
       "      <th>42181</th>\n",
       "      <td>BOEING SOUTH CAROLINA INTERIORS RESPONSIBILITY...</td>\n",
       "      <td>2019</td>\n",
       "      <td>Air</td>\n",
       "      <td>Tetrabromobisphenol-A (TBBPA)</td>\n",
       "      <td>0</td>\n",
       "      <td>NaN</td>\n",
       "    </tr>\n",
       "    <tr>\n",
       "      <th>42182</th>\n",
       "      <td>SHAW INDUSTRIES GROUP INC-PLANT H6-2932WSHWND2...</td>\n",
       "      <td>2014</td>\n",
       "      <td>Air</td>\n",
       "      <td>Glycol Ethers</td>\n",
       "      <td>0</td>\n",
       "      <td>NaN</td>\n",
       "    </tr>\n",
       "    <tr>\n",
       "      <th>42183</th>\n",
       "      <td>SHAW INDUSTRIES GROUP INC-PLANT H6-2932WSHWND2...</td>\n",
       "      <td>2015</td>\n",
       "      <td>Air</td>\n",
       "      <td>Glycol Ethers</td>\n",
       "      <td>0</td>\n",
       "      <td>NaN</td>\n",
       "    </tr>\n",
       "    <tr>\n",
       "      <th>42184</th>\n",
       "      <td>SHAW INDUSTRIES GROUP INC-PLANT H6-2932WSHWND2...</td>\n",
       "      <td>2016</td>\n",
       "      <td>Air</td>\n",
       "      <td>Glycol Ethers</td>\n",
       "      <td>0</td>\n",
       "      <td>NaN</td>\n",
       "    </tr>\n",
       "    <tr>\n",
       "      <th>42185</th>\n",
       "      <td>SHAW INDUSTRIES GROUP INC-PLANT H6-2932WSHWND2...</td>\n",
       "      <td>2017</td>\n",
       "      <td>Air</td>\n",
       "      <td>Glycol Ethers</td>\n",
       "      <td>0</td>\n",
       "      <td>NaN</td>\n",
       "    </tr>\n",
       "    <tr>\n",
       "      <th>42186</th>\n",
       "      <td>SHAW INDUSTRIES GROUP INC-PLANT H6-2932WSHWND2...</td>\n",
       "      <td>2018</td>\n",
       "      <td>Air</td>\n",
       "      <td>Glycol Ethers</td>\n",
       "      <td>0</td>\n",
       "      <td>NaN</td>\n",
       "    </tr>\n",
       "    <tr>\n",
       "      <th>42187</th>\n",
       "      <td>SHAW INDUSTRIES GROUP INC-PLANT H6-2932WSHWND2...</td>\n",
       "      <td>2019</td>\n",
       "      <td>Air</td>\n",
       "      <td>Glycol Ethers</td>\n",
       "      <td>0</td>\n",
       "      <td>NaN</td>\n",
       "    </tr>\n",
       "    <tr>\n",
       "      <th>42188</th>\n",
       "      <td>SHAW INDUSTRIES GROUP-PLANT H5-2932WSHWND877TR</td>\n",
       "      <td>2014</td>\n",
       "      <td>Air</td>\n",
       "      <td>Glycol Ethers</td>\n",
       "      <td>0</td>\n",
       "      <td>NaN</td>\n",
       "    </tr>\n",
       "    <tr>\n",
       "      <th>42189</th>\n",
       "      <td>SHAW INDUSTRIES GROUP-PLANT H5-2932WSHWND877TR</td>\n",
       "      <td>2015</td>\n",
       "      <td>Air</td>\n",
       "      <td>Glycol Ethers</td>\n",
       "      <td>0</td>\n",
       "      <td>NaN</td>\n",
       "    </tr>\n",
       "    <tr>\n",
       "      <th>42190</th>\n",
       "      <td>SHAW INDUSTRIES GROUP-PLANT H5-2932WSHWND877TR</td>\n",
       "      <td>2016</td>\n",
       "      <td>Air</td>\n",
       "      <td>Glycol Ethers</td>\n",
       "      <td>0</td>\n",
       "      <td>NaN</td>\n",
       "    </tr>\n",
       "    <tr>\n",
       "      <th>42191</th>\n",
       "      <td>SHAW INDUSTRIES GROUP-PLANT H5-2932WSHWND877TR</td>\n",
       "      <td>2017</td>\n",
       "      <td>Air</td>\n",
       "      <td>Glycol Ethers</td>\n",
       "      <td>0</td>\n",
       "      <td>NaN</td>\n",
       "    </tr>\n",
       "    <tr>\n",
       "      <th>42192</th>\n",
       "      <td>SHAW INDUSTRIES GROUP-PLANT H5-2932WSHWND877TR</td>\n",
       "      <td>2018</td>\n",
       "      <td>Air</td>\n",
       "      <td>Glycol Ethers</td>\n",
       "      <td>0</td>\n",
       "      <td>NaN</td>\n",
       "    </tr>\n",
       "    <tr>\n",
       "      <th>42193</th>\n",
       "      <td>SHAW INDUSTRIES GROUP-PLANT H5-2932WSHWND877TR</td>\n",
       "      <td>2019</td>\n",
       "      <td>Air</td>\n",
       "      <td>Glycol Ethers</td>\n",
       "      <td>0</td>\n",
       "      <td>NaN</td>\n",
       "    </tr>\n",
       "  </tbody>\n",
       "</table>\n",
       "<p>42194 rows × 6 columns</p>\n",
       "</div>"
      ],
      "text/plain": [
       "                                                Facility  Year Media Type  \\\n",
       "0      INTERNATIONAL PAPER GEORGETOWN MILL-29442NTRNT...  2007        Air   \n",
       "1      INTERNATIONAL PAPER GEORGETOWN MILL-29442NTRNT...  2007        Air   \n",
       "2      INTERNATIONAL PAPER GEORGETOWN MILL-29442NTRNT...  2007        Air   \n",
       "3      INTERNATIONAL PAPER GEORGETOWN MILL-29442NTRNT...  2007        Air   \n",
       "4      INTERNATIONAL PAPER GEORGETOWN MILL-29442NTRNT...  2007        Air   \n",
       "5      INTERNATIONAL PAPER GEORGETOWN MILL-29442NTRNT...  2007        Air   \n",
       "6      INTERNATIONAL PAPER GEORGETOWN MILL-29442NTRNT...  2007        Air   \n",
       "7      INTERNATIONAL PAPER GEORGETOWN MILL-29442NTRNT...  2007        Air   \n",
       "8      INTERNATIONAL PAPER GEORGETOWN MILL-29442NTRNT...  2007        Air   \n",
       "9      INTERNATIONAL PAPER GEORGETOWN MILL-29442NTRNT...  2007        Air   \n",
       "10     INTERNATIONAL PAPER GEORGETOWN MILL-29442NTRNT...  2007        Air   \n",
       "11     INTERNATIONAL PAPER GEORGETOWN MILL-29442NTRNT...  2007        Air   \n",
       "12     INTERNATIONAL PAPER GEORGETOWN MILL-29442NTRNT...  2007        Air   \n",
       "13     INTERNATIONAL PAPER GEORGETOWN MILL-29442NTRNT...  2007        Air   \n",
       "14     INTERNATIONAL PAPER GEORGETOWN MILL-29442NTRNT...  2007        Air   \n",
       "15     INTERNATIONAL PAPER GEORGETOWN MILL-29442NTRNT...  2007        Air   \n",
       "16     INTERNATIONAL PAPER GEORGETOWN MILL-29442NTRNT...  2007        Air   \n",
       "17     INTERNATIONAL PAPER GEORGETOWN MILL-29442NTRNT...  2007        Air   \n",
       "18     INTERNATIONAL PAPER GEORGETOWN MILL-29442NTRNT...  2007        Air   \n",
       "19     INTERNATIONAL PAPER GEORGETOWN MILL-29442NTRNT...  2007        Air   \n",
       "20     INTERNATIONAL PAPER GEORGETOWN MILL-29442NTRNT...  2007      Water   \n",
       "21     INTERNATIONAL PAPER GEORGETOWN MILL-29442NTRNT...  2007      Water   \n",
       "22     INTERNATIONAL PAPER GEORGETOWN MILL-29442NTRNT...  2007      Water   \n",
       "23     INTERNATIONAL PAPER GEORGETOWN MILL-29442NTRNT...  2007      Water   \n",
       "24     INTERNATIONAL PAPER GEORGETOWN MILL-29442NTRNT...  2007      Water   \n",
       "25     INTERNATIONAL PAPER GEORGETOWN MILL-29442NTRNT...  2007      Water   \n",
       "26     INTERNATIONAL PAPER GEORGETOWN MILL-29442NTRNT...  2007      Water   \n",
       "27     INTERNATIONAL PAPER GEORGETOWN MILL-29442NTRNT...  2007      Water   \n",
       "28     INTERNATIONAL PAPER GEORGETOWN MILL-29442NTRNT...  2007      Water   \n",
       "29     INTERNATIONAL PAPER GEORGETOWN MILL-29442NTRNT...  2007      Water   \n",
       "...                                                  ...   ...        ...   \n",
       "42164            OLDCASTLE LAWN & GARDEN-2848WLDCST372UP  2015        Air   \n",
       "42165                   ROYCE ASSOCIATES-2934WRYCSS41PEA  2014      Water   \n",
       "42166  GE APPLIANCES A HAIER CO - CAMDEN-2902WHRMRCBLACK  2011        Air   \n",
       "42167  GE APPLIANCES A HAIER CO - CAMDEN-2902WHRMRCBLACK  2012        Air   \n",
       "42168  GE APPLIANCES A HAIER CO - CAMDEN-2902WHRMRCBLACK  2013        Air   \n",
       "42169  GE APPLIANCES A HAIER CO - CAMDEN-2902WHRMRCBLACK  2014        Air   \n",
       "42170  GE APPLIANCES A HAIER CO - CAMDEN-2902WHRMRCBLACK  2015        Air   \n",
       "42171  GE APPLIANCES A HAIER CO - CAMDEN-2902WHRMRCBLACK  2016        Air   \n",
       "42172  GE APPLIANCES A HAIER CO - CAMDEN-2902WHRMRCBLACK  2017        Air   \n",
       "42173  GE APPLIANCES A HAIER CO - CAMDEN-2902WHRMRCBLACK  2018        Air   \n",
       "42174  GE APPLIANCES A HAIER CO - CAMDEN-2902WHRMRCBLACK  2019        Air   \n",
       "42175                    ANSALDO STS USA-29006NNSWT645RU  2009        Air   \n",
       "42176                    ANSALDO STS USA-29006NNSWT645RU  2010        Air   \n",
       "42177                    ANSALDO STS USA-29006NNSWT645RU  2011        Air   \n",
       "42178                    ANSALDO STS USA-29006NNSWT645RU  2012        Air   \n",
       "42179                    ANSALDO STS USA-29006NNSWT645RU  2019        Air   \n",
       "42180  BOEING SOUTH CAROLINA INTERIORS RESPONSIBILITY...  2018        Air   \n",
       "42181  BOEING SOUTH CAROLINA INTERIORS RESPONSIBILITY...  2019        Air   \n",
       "42182  SHAW INDUSTRIES GROUP INC-PLANT H6-2932WSHWND2...  2014        Air   \n",
       "42183  SHAW INDUSTRIES GROUP INC-PLANT H6-2932WSHWND2...  2015        Air   \n",
       "42184  SHAW INDUSTRIES GROUP INC-PLANT H6-2932WSHWND2...  2016        Air   \n",
       "42185  SHAW INDUSTRIES GROUP INC-PLANT H6-2932WSHWND2...  2017        Air   \n",
       "42186  SHAW INDUSTRIES GROUP INC-PLANT H6-2932WSHWND2...  2018        Air   \n",
       "42187  SHAW INDUSTRIES GROUP INC-PLANT H6-2932WSHWND2...  2019        Air   \n",
       "42188     SHAW INDUSTRIES GROUP-PLANT H5-2932WSHWND877TR  2014        Air   \n",
       "42189     SHAW INDUSTRIES GROUP-PLANT H5-2932WSHWND877TR  2015        Air   \n",
       "42190     SHAW INDUSTRIES GROUP-PLANT H5-2932WSHWND877TR  2016        Air   \n",
       "42191     SHAW INDUSTRIES GROUP-PLANT H5-2932WSHWND877TR  2017        Air   \n",
       "42192     SHAW INDUSTRIES GROUP-PLANT H5-2932WSHWND877TR  2018        Air   \n",
       "42193     SHAW INDUSTRIES GROUP-PLANT H5-2932WSHWND877TR  2019        Air   \n",
       "\n",
       "                                    Chemical  Releases (lbs)       Region  \n",
       "0                                   Methanol         1513299   Georgetown  \n",
       "1                          Hydrochloric acid          193000      Catawba  \n",
       "2                                    Ammonia          166659     Florence  \n",
       "3                              Sulfuric acid          103000     Columbia  \n",
       "4                               Acetaldehyde           84174   Orangeburg  \n",
       "5                              Chloromethane           65204    Pineville  \n",
       "6                    Zinc and zinc compounds           31100     Ehrhardt  \n",
       "7                               Formaldehyde           22993          NaN  \n",
       "8                           Chlorine dioxide           11800          NaN  \n",
       "9                                     Phenol           10332          NaN  \n",
       "10         Manganese and manganese compounds            1440          NaN  \n",
       "11           Vanadium and vanadium compounds            1000          NaN  \n",
       "12                                  Chlorine             885          NaN  \n",
       "13             Polycyclic aromatic compounds             570          NaN  \n",
       "14                   Lead and lead compounds             198          NaN  \n",
       "15               Barium and barium compounds             158          NaN  \n",
       "16               Copper and copper compounds              58          NaN  \n",
       "17             Mercury and mercury compounds              16          NaN  \n",
       "18                      Benzo(g,h,i)perylene               6          NaN  \n",
       "19          Dioxin and dioxin-like compounds               0          NaN  \n",
       "20         Manganese and manganese compounds           37962          NaN  \n",
       "21     Nitrate compounds (water dissociable)           29061          NaN  \n",
       "22                                   Ammonia           16918          NaN  \n",
       "23                              Formaldehyde            7173          NaN  \n",
       "24                   Zinc and zinc compounds            7015          NaN  \n",
       "25           Vanadium and vanadium compounds            1972          NaN  \n",
       "26                              Acetaldehyde            1171          NaN  \n",
       "27                               Formic acid             564          NaN  \n",
       "28               Copper and copper compounds             412          NaN  \n",
       "29                   Lead and lead compounds              82          NaN  \n",
       "...                                      ...             ...          ...  \n",
       "42164                Lead and lead compounds               0          NaN  \n",
       "42165                         Sodium nitrite               0          NaN  \n",
       "42166                          Diisocyanates               0          NaN  \n",
       "42167                          Diisocyanates               0          NaN  \n",
       "42168                          Diisocyanates               0          NaN  \n",
       "42169                          Diisocyanates               0          NaN  \n",
       "42170                          Diisocyanates               0          NaN  \n",
       "42171                          Diisocyanates               0          NaN  \n",
       "42172                          Diisocyanates               0          NaN  \n",
       "42173                          Diisocyanates               0          NaN  \n",
       "42174                          Diisocyanates               0          NaN  \n",
       "42175                Lead and lead compounds               0          NaN  \n",
       "42176                Lead and lead compounds               0          NaN  \n",
       "42177                Lead and lead compounds               0          NaN  \n",
       "42178                Lead and lead compounds               0          NaN  \n",
       "42179                          Diisocyanates               0          NaN  \n",
       "42180          Tetrabromobisphenol-A (TBBPA)               0          NaN  \n",
       "42181          Tetrabromobisphenol-A (TBBPA)               0          NaN  \n",
       "42182                          Glycol Ethers               0          NaN  \n",
       "42183                          Glycol Ethers               0          NaN  \n",
       "42184                          Glycol Ethers               0          NaN  \n",
       "42185                          Glycol Ethers               0          NaN  \n",
       "42186                          Glycol Ethers               0          NaN  \n",
       "42187                          Glycol Ethers               0          NaN  \n",
       "42188                          Glycol Ethers               0          NaN  \n",
       "42189                          Glycol Ethers               0          NaN  \n",
       "42190                          Glycol Ethers               0          NaN  \n",
       "42191                          Glycol Ethers               0          NaN  \n",
       "42192                          Glycol Ethers               0          NaN  \n",
       "42193                          Glycol Ethers               0          NaN  \n",
       "\n",
       "[42194 rows x 6 columns]"
      ]
     },
     "execution_count": 97,
     "metadata": {},
     "output_type": "execute_result"
    }
   ],
   "source": [
    "df1"
   ]
  },
  {
   "cell_type": "code",
   "execution_count": 21,
   "metadata": {},
   "outputs": [
    {
     "data": {
      "application/javascript": [
       "\n",
       "        if (window._pyforest_update_imports_cell) { window._pyforest_update_imports_cell('import pandas as pd\\nimport seaborn as sns'); }\n",
       "    "
      ],
      "text/plain": [
       "<IPython.core.display.Javascript object>"
      ]
     },
     "metadata": {},
     "output_type": "display_data"
    }
   ],
   "source": [
    "df3 = pd.read_csv(\"C:/Users/mundl/Downloads/region (1).csv\")"
   ]
  },
  {
   "cell_type": "markdown",
   "metadata": {},
   "source": [
    "# Top 7 regions "
   ]
  },
  {
   "cell_type": "code",
   "execution_count": 22,
   "metadata": {},
   "outputs": [
    {
     "data": {
      "text/html": [
       "<div>\n",
       "<style scoped>\n",
       "    .dataframe tbody tr th:only-of-type {\n",
       "        vertical-align: middle;\n",
       "    }\n",
       "\n",
       "    .dataframe tbody tr th {\n",
       "        vertical-align: top;\n",
       "    }\n",
       "\n",
       "    .dataframe thead th {\n",
       "        text-align: right;\n",
       "    }\n",
       "</style>\n",
       "<table border=\"1\" class=\"dataframe\">\n",
       "  <thead>\n",
       "    <tr style=\"text-align: right;\">\n",
       "      <th></th>\n",
       "      <th>Facility</th>\n",
       "      <th>Region</th>\n",
       "      <th>Releases (lbs)</th>\n",
       "    </tr>\n",
       "  </thead>\n",
       "  <tbody>\n",
       "    <tr>\n",
       "      <th>0</th>\n",
       "      <td>INTERNATIONAL PAPER GEORGETOWN MILL-29442NTRNT...</td>\n",
       "      <td>Georgetown</td>\n",
       "      <td>32115915.47</td>\n",
       "    </tr>\n",
       "    <tr>\n",
       "      <th>1</th>\n",
       "      <td>NEW-INDY CATAWBA LLC-29704BWTRC5300C</td>\n",
       "      <td>Catawba</td>\n",
       "      <td>25709985.82</td>\n",
       "    </tr>\n",
       "    <tr>\n",
       "      <th>2</th>\n",
       "      <td>WESTROCK CP LLC-29502STNCNOLDGE</td>\n",
       "      <td>Florence</td>\n",
       "      <td>25001780.84</td>\n",
       "    </tr>\n",
       "    <tr>\n",
       "      <th>3</th>\n",
       "      <td>KAPSTONE PAPER &amp; PACKAGING CORP-29411WSTVC5600A</td>\n",
       "      <td>Columbia</td>\n",
       "      <td>22727297.00</td>\n",
       "    </tr>\n",
       "    <tr>\n",
       "      <th>4</th>\n",
       "      <td>SI GROUP INC-29116THYLCCANNO</td>\n",
       "      <td>Orangeburg</td>\n",
       "      <td>22623680.66</td>\n",
       "    </tr>\n",
       "    <tr>\n",
       "      <th>5</th>\n",
       "      <td>CROSS GENERATING STATION-29436CRSSG553CR</td>\n",
       "      <td>Pineville</td>\n",
       "      <td>18205081.06</td>\n",
       "    </tr>\n",
       "    <tr>\n",
       "      <th>6</th>\n",
       "      <td>US DOE SAVANNAH RIVER OPS-29802SDSVNSCHWY</td>\n",
       "      <td>Ehrhardt</td>\n",
       "      <td>18155430.59</td>\n",
       "    </tr>\n",
       "  </tbody>\n",
       "</table>\n",
       "</div>"
      ],
      "text/plain": [
       "                                            Facility       Region  \\\n",
       "0  INTERNATIONAL PAPER GEORGETOWN MILL-29442NTRNT...   Georgetown   \n",
       "1               NEW-INDY CATAWBA LLC-29704BWTRC5300C      Catawba   \n",
       "2                    WESTROCK CP LLC-29502STNCNOLDGE     Florence   \n",
       "3    KAPSTONE PAPER & PACKAGING CORP-29411WSTVC5600A     Columbia   \n",
       "4                       SI GROUP INC-29116THYLCCANNO   Orangeburg   \n",
       "5           CROSS GENERATING STATION-29436CRSSG553CR    Pineville   \n",
       "6          US DOE SAVANNAH RIVER OPS-29802SDSVNSCHWY     Ehrhardt   \n",
       "\n",
       "   Releases (lbs)  \n",
       "0     32115915.47  \n",
       "1     25709985.82  \n",
       "2     25001780.84  \n",
       "3     22727297.00  \n",
       "4     22623680.66  \n",
       "5     18205081.06  \n",
       "6     18155430.59  "
      ]
     },
     "execution_count": 22,
     "metadata": {},
     "output_type": "execute_result"
    }
   ],
   "source": [
    "# Top 7 Regions and Companies with largest releases of chemicals causing water pollution.\n",
    "\n",
    "df3"
   ]
  },
  {
   "cell_type": "code",
   "execution_count": 23,
   "metadata": {},
   "outputs": [],
   "source": [
    "# Converting the float releases to integer format.\n",
    "\n",
    "df3[\"Releases (lbs)\"] = df3[\"Releases (lbs)\"].astype(int)"
   ]
  },
  {
   "cell_type": "markdown",
   "metadata": {},
   "source": [
    "# Visualization"
   ]
  },
  {
   "cell_type": "code",
   "execution_count": 25,
   "metadata": {},
   "outputs": [
    {
     "data": {
      "application/javascript": [
       "\n",
       "        if (window._pyforest_update_imports_cell) { window._pyforest_update_imports_cell('import matplotlib.pyplot as plt\\nimport pandas as pd\\nimport seaborn as sns'); }\n",
       "    "
      ],
      "text/plain": [
       "<IPython.core.display.Javascript object>"
      ]
     },
     "metadata": {},
     "output_type": "display_data"
    },
    {
     "data": {
      "text/plain": [
       "[<matplotlib.lines.Line2D at 0x1bda838c630>]"
      ]
     },
     "execution_count": 25,
     "metadata": {},
     "output_type": "execute_result"
    },
    {
     "data": {
      "image/png": "[encoded data removed]",
      "text/plain": [
       "<Figure size 640x480 with 1 Axes>"
      ]
     },
     "metadata": {},
     "output_type": "display_data"
    }
   ],
   "source": [
    "from matplotlib.pyplot import figure\n",
    "figure(num=None, figsize=(8, 6), dpi=80, facecolor='w', edgecolor='k')\n",
    "\n",
    "plt.plot(\"Region\", \"Releases (lbs)\", data=df3)"
   ]
  },
  {
   "cell_type": "code",
   "execution_count": 27,
   "metadata": {},
   "outputs": [
    {
     "data": {
      "application/javascript": [
       "\n",
       "        if (window._pyforest_update_imports_cell) { window._pyforest_update_imports_cell('import matplotlib.pyplot as plt\\nimport pandas as pd\\nimport seaborn as sns'); }\n",
       "    "
      ],
      "text/plain": [
       "<IPython.core.display.Javascript object>"
      ]
     },
     "metadata": {},
     "output_type": "display_data"
    },
    {
     "data": {
      "application/javascript": [
       "\n",
       "        if (window._pyforest_update_imports_cell) { window._pyforest_update_imports_cell('import matplotlib.pyplot as plt\\nimport pandas as pd\\nimport seaborn as sns'); }\n",
       "    "
      ],
      "text/plain": [
       "<IPython.core.display.Javascript object>"
      ]
     },
     "metadata": {},
     "output_type": "display_data"
    },
    {
     "data": {
      "text/plain": [
       "<matplotlib.axes._subplots.AxesSubplot at 0x1bda8367ba8>"
      ]
     },
     "execution_count": 27,
     "metadata": {},
     "output_type": "execute_result"
    },
    {
     "data": {
      "image/png": "[encoded data removed]",
      "text/plain": [
       "<Figure size 936x648 with 1 Axes>"
      ]
     },
     "metadata": {
      "needs_background": "light"
     },
     "output_type": "display_data"
    }
   ],
   "source": [
    "fig_dims = (13, 9)\n",
    "\n",
    "fig, ax = plt.subplots(figsize=fig_dims)\n",
    "\n",
    "sns.barplot(x=\"Region\", y=\"Releases (lbs)\", data=df3, hue = \"Facility\")"
   ]
  },
  {
   "cell_type": "code",
   "execution_count": 28,
   "metadata": {},
   "outputs": [
    {
     "data": {
      "application/javascript": [
       "\n",
       "        if (window._pyforest_update_imports_cell) { window._pyforest_update_imports_cell('import matplotlib.pyplot as plt\\nimport pandas as pd\\nimport seaborn as sns'); }\n",
       "    "
      ],
      "text/plain": [
       "<IPython.core.display.Javascript object>"
      ]
     },
     "metadata": {},
     "output_type": "display_data"
    },
    {
     "data": {
      "application/javascript": [
       "\n",
       "        if (window._pyforest_update_imports_cell) { window._pyforest_update_imports_cell('import matplotlib.pyplot as plt\\nimport pandas as pd\\nimport seaborn as sns'); }\n",
       "    "
      ],
      "text/plain": [
       "<IPython.core.display.Javascript object>"
      ]
     },
     "metadata": {},
     "output_type": "display_data"
    },
    {
     "data": {
      "text/plain": [
       "<matplotlib.axes._subplots.AxesSubplot at 0x1bda87a3080>"
      ]
     },
     "execution_count": 28,
     "metadata": {},
     "output_type": "execute_result"
    },
    {
     "data": {
      "image/png": "[encoded data removed]",
      "text/plain": [
       "<Figure size 576x432 with 1 Axes>"
      ]
     },
     "metadata": {
      "needs_background": "light"
     },
     "output_type": "display_data"
    }
   ],
   "source": [
    "fig_dims = (8, 6)\n",
    "\n",
    "fig, ax = plt.subplots(figsize=fig_dims)\n",
    "\n",
    "sns.lineplot(data=df1, x=\"Year\", y=\"Releases (lbs)\")"
   ]
  },
  {
   "cell_type": "markdown",
   "metadata": {},
   "source": [
    "Joining the years column from the new dataset again to get the structured data"
   ]
  },
  {
   "cell_type": "code",
   "execution_count": 29,
   "metadata": {},
   "outputs": [
    {
     "data": {
      "application/javascript": [
       "\n",
       "        if (window._pyforest_update_imports_cell) { window._pyforest_update_imports_cell('import matplotlib.pyplot as plt\\nimport pandas as pd\\nimport seaborn as sns'); }\n",
       "    "
      ],
      "text/plain": [
       "<IPython.core.display.Javascript object>"
      ]
     },
     "metadata": {},
     "output_type": "display_data"
    }
   ],
   "source": [
    "df4 = pd.read_csv(\"C:/Users/mundl/Downloads/region (1).csv\")"
   ]
  },
  {
   "cell_type": "code",
   "execution_count": 30,
   "metadata": {},
   "outputs": [],
   "source": [
    "years = df1[\"Year\"]\n",
    "df4 = df4.join(years)"
   ]
  },
  {
   "cell_type": "code",
   "execution_count": 31,
   "metadata": {},
   "outputs": [
    {
     "data": {
      "text/html": [
       "<div>\n",
       "<style scoped>\n",
       "    .dataframe tbody tr th:only-of-type {\n",
       "        vertical-align: middle;\n",
       "    }\n",
       "\n",
       "    .dataframe tbody tr th {\n",
       "        vertical-align: top;\n",
       "    }\n",
       "\n",
       "    .dataframe thead th {\n",
       "        text-align: right;\n",
       "    }\n",
       "</style>\n",
       "<table border=\"1\" class=\"dataframe\">\n",
       "  <thead>\n",
       "    <tr style=\"text-align: right;\">\n",
       "      <th></th>\n",
       "      <th>Facility</th>\n",
       "      <th>Region</th>\n",
       "      <th>Releases (lbs)</th>\n",
       "      <th>Year</th>\n",
       "    </tr>\n",
       "  </thead>\n",
       "  <tbody>\n",
       "    <tr>\n",
       "      <th>0</th>\n",
       "      <td>INTERNATIONAL PAPER GEORGETOWN MILL-29442NTRNT...</td>\n",
       "      <td>Georgetown</td>\n",
       "      <td>32115915.47</td>\n",
       "      <td>2007</td>\n",
       "    </tr>\n",
       "    <tr>\n",
       "      <th>1</th>\n",
       "      <td>NEW-INDY CATAWBA LLC-29704BWTRC5300C</td>\n",
       "      <td>Catawba</td>\n",
       "      <td>25709985.82</td>\n",
       "      <td>2007</td>\n",
       "    </tr>\n",
       "    <tr>\n",
       "      <th>2</th>\n",
       "      <td>WESTROCK CP LLC-29502STNCNOLDGE</td>\n",
       "      <td>Florence</td>\n",
       "      <td>25001780.84</td>\n",
       "      <td>2007</td>\n",
       "    </tr>\n",
       "    <tr>\n",
       "      <th>3</th>\n",
       "      <td>KAPSTONE PAPER &amp; PACKAGING CORP-29411WSTVC5600A</td>\n",
       "      <td>Columbia</td>\n",
       "      <td>22727297.00</td>\n",
       "      <td>2007</td>\n",
       "    </tr>\n",
       "    <tr>\n",
       "      <th>4</th>\n",
       "      <td>SI GROUP INC-29116THYLCCANNO</td>\n",
       "      <td>Orangeburg</td>\n",
       "      <td>22623680.66</td>\n",
       "      <td>2007</td>\n",
       "    </tr>\n",
       "    <tr>\n",
       "      <th>5</th>\n",
       "      <td>CROSS GENERATING STATION-29436CRSSG553CR</td>\n",
       "      <td>Pineville</td>\n",
       "      <td>18205081.06</td>\n",
       "      <td>2007</td>\n",
       "    </tr>\n",
       "    <tr>\n",
       "      <th>6</th>\n",
       "      <td>US DOE SAVANNAH RIVER OPS-29802SDSVNSCHWY</td>\n",
       "      <td>Ehrhardt</td>\n",
       "      <td>18155430.59</td>\n",
       "      <td>2007</td>\n",
       "    </tr>\n",
       "  </tbody>\n",
       "</table>\n",
       "</div>"
      ],
      "text/plain": [
       "                                            Facility       Region  \\\n",
       "0  INTERNATIONAL PAPER GEORGETOWN MILL-29442NTRNT...   Georgetown   \n",
       "1               NEW-INDY CATAWBA LLC-29704BWTRC5300C      Catawba   \n",
       "2                    WESTROCK CP LLC-29502STNCNOLDGE     Florence   \n",
       "3    KAPSTONE PAPER & PACKAGING CORP-29411WSTVC5600A     Columbia   \n",
       "4                       SI GROUP INC-29116THYLCCANNO   Orangeburg   \n",
       "5           CROSS GENERATING STATION-29436CRSSG553CR    Pineville   \n",
       "6          US DOE SAVANNAH RIVER OPS-29802SDSVNSCHWY     Ehrhardt   \n",
       "\n",
       "   Releases (lbs)  Year  \n",
       "0     32115915.47  2007  \n",
       "1     25709985.82  2007  \n",
       "2     25001780.84  2007  \n",
       "3     22727297.00  2007  \n",
       "4     22623680.66  2007  \n",
       "5     18205081.06  2007  \n",
       "6     18155430.59  2007  "
      ]
     },
     "execution_count": 31,
     "metadata": {},
     "output_type": "execute_result"
    }
   ],
   "source": [
    "# Top 7 Facilities with highest releases of chemicals.\n",
    "\n",
    "df4"
   ]
  },
  {
   "cell_type": "code",
   "execution_count": 32,
   "metadata": {},
   "outputs": [],
   "source": [
    "Regions = df3[\"Region\"]\n",
    "df1 = df1.join(Regions)"
   ]
  },
  {
   "cell_type": "code",
   "execution_count": 99,
   "metadata": {},
   "outputs": [
    {
     "data": {
      "text/html": [
       "<div>\n",
       "<style scoped>\n",
       "    .dataframe tbody tr th:only-of-type {\n",
       "        vertical-align: middle;\n",
       "    }\n",
       "\n",
       "    .dataframe tbody tr th {\n",
       "        vertical-align: top;\n",
       "    }\n",
       "\n",
       "    .dataframe thead th {\n",
       "        text-align: right;\n",
       "    }\n",
       "</style>\n",
       "<table border=\"1\" class=\"dataframe\">\n",
       "  <thead>\n",
       "    <tr style=\"text-align: right;\">\n",
       "      <th></th>\n",
       "      <th>Facility</th>\n",
       "      <th>Year</th>\n",
       "      <th>Media Type</th>\n",
       "      <th>Chemical</th>\n",
       "      <th>Releases (lbs)</th>\n",
       "      <th>Region</th>\n",
       "    </tr>\n",
       "  </thead>\n",
       "  <tbody>\n",
       "    <tr>\n",
       "      <th>0</th>\n",
       "      <td>INTERNATIONAL PAPER GEORGETOWN MILL-29442NTRNT...</td>\n",
       "      <td>2007</td>\n",
       "      <td>Air</td>\n",
       "      <td>Methanol</td>\n",
       "      <td>1513299</td>\n",
       "      <td>Georgetown</td>\n",
       "    </tr>\n",
       "    <tr>\n",
       "      <th>1</th>\n",
       "      <td>INTERNATIONAL PAPER GEORGETOWN MILL-29442NTRNT...</td>\n",
       "      <td>2007</td>\n",
       "      <td>Air</td>\n",
       "      <td>Hydrochloric acid</td>\n",
       "      <td>193000</td>\n",
       "      <td>Catawba</td>\n",
       "    </tr>\n",
       "    <tr>\n",
       "      <th>2</th>\n",
       "      <td>INTERNATIONAL PAPER GEORGETOWN MILL-29442NTRNT...</td>\n",
       "      <td>2007</td>\n",
       "      <td>Air</td>\n",
       "      <td>Ammonia</td>\n",
       "      <td>166659</td>\n",
       "      <td>Florence</td>\n",
       "    </tr>\n",
       "    <tr>\n",
       "      <th>3</th>\n",
       "      <td>INTERNATIONAL PAPER GEORGETOWN MILL-29442NTRNT...</td>\n",
       "      <td>2007</td>\n",
       "      <td>Air</td>\n",
       "      <td>Sulfuric acid</td>\n",
       "      <td>103000</td>\n",
       "      <td>Columbia</td>\n",
       "    </tr>\n",
       "    <tr>\n",
       "      <th>4</th>\n",
       "      <td>INTERNATIONAL PAPER GEORGETOWN MILL-29442NTRNT...</td>\n",
       "      <td>2007</td>\n",
       "      <td>Air</td>\n",
       "      <td>Acetaldehyde</td>\n",
       "      <td>84174</td>\n",
       "      <td>Orangeburg</td>\n",
       "    </tr>\n",
       "  </tbody>\n",
       "</table>\n",
       "</div>"
      ],
      "text/plain": [
       "                                            Facility  Year Media Type  \\\n",
       "0  INTERNATIONAL PAPER GEORGETOWN MILL-29442NTRNT...  2007        Air   \n",
       "1  INTERNATIONAL PAPER GEORGETOWN MILL-29442NTRNT...  2007        Air   \n",
       "2  INTERNATIONAL PAPER GEORGETOWN MILL-29442NTRNT...  2007        Air   \n",
       "3  INTERNATIONAL PAPER GEORGETOWN MILL-29442NTRNT...  2007        Air   \n",
       "4  INTERNATIONAL PAPER GEORGETOWN MILL-29442NTRNT...  2007        Air   \n",
       "\n",
       "            Chemical  Releases (lbs)       Region  \n",
       "0           Methanol         1513299   Georgetown  \n",
       "1  Hydrochloric acid          193000      Catawba  \n",
       "2            Ammonia          166659     Florence  \n",
       "3      Sulfuric acid          103000     Columbia  \n",
       "4       Acetaldehyde           84174   Orangeburg  "
      ]
     },
     "execution_count": 99,
     "metadata": {},
     "output_type": "execute_result"
    }
   ],
   "source": [
    "df1.head()"
   ]
  },
  {
   "cell_type": "markdown",
   "metadata": {},
   "source": [
    "# Creating a Merged dataframe "
   ]
  },
  {
   "cell_type": "markdown",
   "metadata": {},
   "source": [
    "Below is the merged dataframe which consists of a \"Region\" attribute added in the current dataset of facilities mapped according to the codes from the previous dataset which was in \".out\" format"
   ]
  },
  {
   "cell_type": "code",
   "execution_count": 34,
   "metadata": {},
   "outputs": [],
   "source": [
    "df1.to_csv('Merged.csv') "
   ]
  },
  {
   "cell_type": "code",
   "execution_count": 35,
   "metadata": {},
   "outputs": [
    {
     "data": {
      "application/javascript": [
       "\n",
       "        if (window._pyforest_update_imports_cell) { window._pyforest_update_imports_cell('import matplotlib.pyplot as plt\\nimport pandas as pd\\nimport seaborn as sns'); }\n",
       "    "
      ],
      "text/plain": [
       "<IPython.core.display.Javascript object>"
      ]
     },
     "metadata": {},
     "output_type": "display_data"
    }
   ],
   "source": [
    "df_main = pd.read_csv(\"Merged.csv\")"
   ]
  },
  {
   "cell_type": "code",
   "execution_count": 37,
   "metadata": {},
   "outputs": [],
   "source": [
    "del df_main[\"Unnamed: 0\"]"
   ]
  },
  {
   "cell_type": "code",
   "execution_count": null,
   "metadata": {},
   "outputs": [],
   "source": [
    "# fig_dims = (13, 9)\n",
    "\n",
    "# fig, ax = plt.subplots(figsize=fig_dims)\n",
    "\n",
    "# sns.barplot(x=\"Region\", y=\"Releases (lbs)\", data=df_main, hue = \"Facility\")"
   ]
  },
  {
   "cell_type": "code",
   "execution_count": 38,
   "metadata": {},
   "outputs": [
    {
     "data": {
      "text/plain": [
       "42194"
      ]
     },
     "execution_count": 38,
     "metadata": {},
     "output_type": "execute_result"
    }
   ],
   "source": [
    "df_main[\"Facility\"].value_counts().sum()"
   ]
  },
  {
   "cell_type": "code",
   "execution_count": 39,
   "metadata": {},
   "outputs": [
    {
     "data": {
      "text/plain": [
       "7"
      ]
     },
     "execution_count": 39,
     "metadata": {},
     "output_type": "execute_result"
    }
   ],
   "source": [
    "df_main[\"Region\"].value_counts().sum()"
   ]
  },
  {
   "cell_type": "code",
   "execution_count": 41,
   "metadata": {},
   "outputs": [],
   "source": [
    "# del df_main[\"Unnamed: 7\"]\n",
    "# del df_main[\"Unnamed: 8\"]"
   ]
  },
  {
   "cell_type": "code",
   "execution_count": 42,
   "metadata": {},
   "outputs": [
    {
     "data": {
      "text/html": [
       "<div>\n",
       "<style scoped>\n",
       "    .dataframe tbody tr th:only-of-type {\n",
       "        vertical-align: middle;\n",
       "    }\n",
       "\n",
       "    .dataframe tbody tr th {\n",
       "        vertical-align: top;\n",
       "    }\n",
       "\n",
       "    .dataframe thead th {\n",
       "        text-align: right;\n",
       "    }\n",
       "</style>\n",
       "<table border=\"1\" class=\"dataframe\">\n",
       "  <thead>\n",
       "    <tr style=\"text-align: right;\">\n",
       "      <th></th>\n",
       "      <th>Facility</th>\n",
       "      <th>Year</th>\n",
       "      <th>Media Type</th>\n",
       "      <th>Chemical</th>\n",
       "      <th>Releases (lbs)</th>\n",
       "      <th>Region</th>\n",
       "    </tr>\n",
       "  </thead>\n",
       "  <tbody>\n",
       "    <tr>\n",
       "      <th>0</th>\n",
       "      <td>INTERNATIONAL PAPER GEORGETOWN MILL-29442NTRNT...</td>\n",
       "      <td>2007</td>\n",
       "      <td>Air</td>\n",
       "      <td>Methanol</td>\n",
       "      <td>1513299</td>\n",
       "      <td>Georgetown</td>\n",
       "    </tr>\n",
       "    <tr>\n",
       "      <th>1</th>\n",
       "      <td>INTERNATIONAL PAPER GEORGETOWN MILL-29442NTRNT...</td>\n",
       "      <td>2007</td>\n",
       "      <td>Air</td>\n",
       "      <td>Hydrochloric acid</td>\n",
       "      <td>193000</td>\n",
       "      <td>Catawba</td>\n",
       "    </tr>\n",
       "    <tr>\n",
       "      <th>2</th>\n",
       "      <td>INTERNATIONAL PAPER GEORGETOWN MILL-29442NTRNT...</td>\n",
       "      <td>2007</td>\n",
       "      <td>Air</td>\n",
       "      <td>Ammonia</td>\n",
       "      <td>166659</td>\n",
       "      <td>Florence</td>\n",
       "    </tr>\n",
       "    <tr>\n",
       "      <th>3</th>\n",
       "      <td>INTERNATIONAL PAPER GEORGETOWN MILL-29442NTRNT...</td>\n",
       "      <td>2007</td>\n",
       "      <td>Air</td>\n",
       "      <td>Sulfuric acid</td>\n",
       "      <td>103000</td>\n",
       "      <td>Columbia</td>\n",
       "    </tr>\n",
       "    <tr>\n",
       "      <th>4</th>\n",
       "      <td>INTERNATIONAL PAPER GEORGETOWN MILL-29442NTRNT...</td>\n",
       "      <td>2007</td>\n",
       "      <td>Air</td>\n",
       "      <td>Acetaldehyde</td>\n",
       "      <td>84174</td>\n",
       "      <td>Orangeburg</td>\n",
       "    </tr>\n",
       "  </tbody>\n",
       "</table>\n",
       "</div>"
      ],
      "text/plain": [
       "                                            Facility  Year Media Type  \\\n",
       "0  INTERNATIONAL PAPER GEORGETOWN MILL-29442NTRNT...  2007        Air   \n",
       "1  INTERNATIONAL PAPER GEORGETOWN MILL-29442NTRNT...  2007        Air   \n",
       "2  INTERNATIONAL PAPER GEORGETOWN MILL-29442NTRNT...  2007        Air   \n",
       "3  INTERNATIONAL PAPER GEORGETOWN MILL-29442NTRNT...  2007        Air   \n",
       "4  INTERNATIONAL PAPER GEORGETOWN MILL-29442NTRNT...  2007        Air   \n",
       "\n",
       "            Chemical  Releases (lbs)       Region  \n",
       "0           Methanol         1513299   Georgetown  \n",
       "1  Hydrochloric acid          193000      Catawba  \n",
       "2            Ammonia          166659     Florence  \n",
       "3      Sulfuric acid          103000     Columbia  \n",
       "4       Acetaldehyde           84174   Orangeburg  "
      ]
     },
     "execution_count": 42,
     "metadata": {},
     "output_type": "execute_result"
    }
   ],
   "source": [
    "df_main.head()"
   ]
  },
  {
   "cell_type": "code",
   "execution_count": 43,
   "metadata": {},
   "outputs": [
    {
     "data": {
      "text/plain": [
       "Facility          0.000000\n",
       "Year              0.000000\n",
       "Media Type        0.000000\n",
       "Chemical          0.000000\n",
       "Releases (lbs)    0.000000\n",
       "Region            0.999834\n",
       "dtype: float64"
      ]
     },
     "execution_count": 43,
     "metadata": {},
     "output_type": "execute_result"
    }
   ],
   "source": [
    "df_main.isnull().sum() / df_main.shape[0]"
   ]
  },
  {
   "cell_type": "code",
   "execution_count": null,
   "metadata": {},
   "outputs": [],
   "source": [
    "# from matplotlib.pyplot import figure\n",
    "# figure(num=None, figsize=(8, 6), dpi=80, facecolor='w', edgecolor='k')\n",
    "\n",
    "# plt.plot(\"Region\", \"Releases (lbs)\", data=df_main)  0+n  "
   ]
  },
  {
   "cell_type": "code",
   "execution_count": 62,
   "metadata": {},
   "outputs": [],
   "source": [
    "chemicals = df_main.Chemical.value_counts().loc[lambda x : x>1000].to_frame()"
   ]
  },
  {
   "cell_type": "code",
   "execution_count": 63,
   "metadata": {},
   "outputs": [
    {
     "data": {
      "text/html": [
       "<div>\n",
       "<style scoped>\n",
       "    .dataframe tbody tr th:only-of-type {\n",
       "        vertical-align: middle;\n",
       "    }\n",
       "\n",
       "    .dataframe tbody tr th {\n",
       "        vertical-align: top;\n",
       "    }\n",
       "\n",
       "    .dataframe thead th {\n",
       "        text-align: right;\n",
       "    }\n",
       "</style>\n",
       "<table border=\"1\" class=\"dataframe\">\n",
       "  <thead>\n",
       "    <tr style=\"text-align: right;\">\n",
       "      <th></th>\n",
       "      <th>Chemical</th>\n",
       "    </tr>\n",
       "  </thead>\n",
       "  <tbody>\n",
       "    <tr>\n",
       "      <th>Lead and lead compounds</th>\n",
       "      <td>4114</td>\n",
       "    </tr>\n",
       "    <tr>\n",
       "      <th>Copper and copper compounds</th>\n",
       "      <td>2454</td>\n",
       "    </tr>\n",
       "    <tr>\n",
       "      <th>Zinc and zinc compounds</th>\n",
       "      <td>2146</td>\n",
       "    </tr>\n",
       "    <tr>\n",
       "      <th>Manganese and manganese compounds</th>\n",
       "      <td>2118</td>\n",
       "    </tr>\n",
       "    <tr>\n",
       "      <th>Chromium and chromium compounds</th>\n",
       "      <td>1955</td>\n",
       "    </tr>\n",
       "    <tr>\n",
       "      <th>Nickel and nickel compounds</th>\n",
       "      <td>1890</td>\n",
       "    </tr>\n",
       "    <tr>\n",
       "      <th>Methanol</th>\n",
       "      <td>1554</td>\n",
       "    </tr>\n",
       "    <tr>\n",
       "      <th>Ammonia</th>\n",
       "      <td>1362</td>\n",
       "    </tr>\n",
       "  </tbody>\n",
       "</table>\n",
       "</div>"
      ],
      "text/plain": [
       "                                   Chemical\n",
       "Lead and lead compounds                4114\n",
       "Copper and copper compounds            2454\n",
       "Zinc and zinc compounds                2146\n",
       "Manganese and manganese compounds      2118\n",
       "Chromium and chromium compounds        1955\n",
       "Nickel and nickel compounds            1890\n",
       "Methanol                               1554\n",
       "Ammonia                                1362"
      ]
     },
     "execution_count": 63,
     "metadata": {},
     "output_type": "execute_result"
    }
   ],
   "source": [
    "chemicals"
   ]
  },
  {
   "cell_type": "code",
   "execution_count": 82,
   "metadata": {},
   "outputs": [
    {
     "data": {
      "application/javascript": [
       "\n",
       "        if (window._pyforest_update_imports_cell) { window._pyforest_update_imports_cell('import matplotlib.pyplot as plt\\nimport pandas as pd\\nimport seaborn as sns'); }\n",
       "    "
      ],
      "text/plain": [
       "<IPython.core.display.Javascript object>"
      ]
     },
     "metadata": {},
     "output_type": "display_data"
    },
    {
     "data": {
      "application/javascript": [
       "\n",
       "        if (window._pyforest_update_imports_cell) { window._pyforest_update_imports_cell('import matplotlib.pyplot as plt\\nimport pandas as pd\\nimport seaborn as sns'); }\n",
       "    "
      ],
      "text/plain": [
       "<IPython.core.display.Javascript object>"
      ]
     },
     "metadata": {},
     "output_type": "display_data"
    },
    {
     "data": {
      "application/javascript": [
       "\n",
       "        if (window._pyforest_update_imports_cell) { window._pyforest_update_imports_cell('import matplotlib.pyplot as plt\\nimport pandas as pd\\nimport seaborn as sns'); }\n",
       "    "
      ],
      "text/plain": [
       "<IPython.core.display.Javascript object>"
      ]
     },
     "metadata": {},
     "output_type": "display_data"
    },
    {
     "data": {
      "text/plain": [
       "<matplotlib.axes._subplots.AxesSubplot at 0x1bda8e02588>"
      ]
     },
     "execution_count": 82,
     "metadata": {},
     "output_type": "execute_result"
    },
    {
     "data": {
      "image/png": "[encoded data removed]",
      "text/plain": [
       "<Figure size 1440x720 with 1 Axes>"
      ]
     },
     "metadata": {
      "needs_background": "light"
     },
     "output_type": "display_data"
    }
   ],
   "source": [
    "fig_dims = (20, 10)\n",
    "\n",
    "fig, ax = plt.subplots(figsize=fig_dims)\n",
    "\n",
    "sns.countplot(x='Chemical',data=df_main,order=pd.value_counts(df_main['Chemical']).iloc[:5].index)"
   ]
  }
 ],
 "metadata": {
  "kernelspec": {
   "display_name": "Python 3",
   "language": "python",
   "name": "python3"
  },
  "language_info": {
   "codemirror_mode": {
    "name": "ipython",
    "version": 3
   },
   "file_extension": ".py",
   "mimetype": "text/x-python",
   "name": "python",
   "nbconvert_exporter": "python",
   "pygments_lexer": "ipython3",
   "version": "3.6.9"
  }
 },
 "nbformat": 4,
 "nbformat_minor": 2
}
